{
 "cells": [
  {
   "cell_type": "markdown",
   "metadata": {},
   "source": [
    "# Modeling and optimization of a weekly workforce with Python and Pyomo\n",
    "Step-by-step modeling and optimization of a workforce design and assignation problem using Python and Pyomo.\n",
    "Code of the post https://towardsdatascience.com/modeling-and-optimization-of-a-weekly-workforce-with-python-and-pyomo-29484ba065bb."
   ]
  },
  {
   "cell_type": "markdown",
   "metadata": {},
   "source": [
    "## Problem description\n",
    "A new food store has been opened at the University Campus which will be open 24 hours a day, 7 days a week. Each day, there are three eight-hour shifts. Morning shift is from 6:00 to 14:00, evening shift is from 14:00 to 22:00 and night shift is from 22:00 to 6:00 of the next day.\n",
    "During the night there is only one worker while during the day there are two, except on Sunday that there is only one for each shift. Each worker will not exceed a maximum of 40 hours per week and have to rest for 12 hours between two shifts.\n",
    "As for the weekly rest days, an employee who rests one Sunday will also prefer to do the same that Saturday.\n",
    "In principle, there are available ten employees, which is clearly over-sized. The less the workers are needed, the more the resources for other stores."
   ]
  },
  {
   "cell_type": "code",
   "execution_count": 31,
   "metadata": {},
   "outputs": [],
   "source": [
    "from pyomo.environ import *\n",
    "from pyomo.opt import SolverFactory"
   ]
  },
  {
   "cell_type": "code",
   "execution_count": 32,
   "metadata": {},
   "outputs": [],
   "source": [
    "# Define model parameters\n",
    "# Define days (1 week)\n",
    "days = ['Mon', 'Tue', 'Wed', 'Thu', 'Fri', 'Sat', 'Sun']\n",
    "\n",
    "# Enter shifts of each day\n",
    "shifts = ['morning', 'evening', 'night']  # 3 shifts of 8 hours\n",
    "days_shifts = {day: shifts for day in days}  # dict with day as key and list of its shifts as value\n",
    "\n",
    "# Enter workers ids (name, number, ...)\n",
    "workers = ['W' + str(i) for i in range(1, 11)]  # 10 workers available, more than needed"
   ]
  },
  {
   "cell_type": "code",
   "execution_count": 33,
   "metadata": {},
   "outputs": [
    {
     "data": {
      "text/plain": [
       "['W1', 'W2', 'W3', 'W4', 'W5', 'W6', 'W7', 'W8', 'W9', 'W10']"
      ]
     },
     "execution_count": 33,
     "metadata": {},
     "output_type": "execute_result"
    }
   ],
   "source": [
    "workers"
   ]
  },
  {
   "cell_type": "code",
   "execution_count": 34,
   "metadata": {},
   "outputs": [
    {
     "data": {
      "text/plain": [
       "{'Mon': ['morning', 'evening', 'night'],\n",
       " 'Tue': ['morning', 'evening', 'night'],\n",
       " 'Wed': ['morning', 'evening', 'night'],\n",
       " 'Thu': ['morning', 'evening', 'night'],\n",
       " 'Fri': ['morning', 'evening', 'night'],\n",
       " 'Sat': ['morning', 'evening', 'night'],\n",
       " 'Sun': ['morning', 'evening', 'night']}"
      ]
     },
     "execution_count": 34,
     "metadata": {},
     "output_type": "execute_result"
    }
   ],
   "source": [
    "days_shifts"
   ]
  },
  {
   "cell_type": "code",
   "execution_count": 35,
   "metadata": {},
   "outputs": [
    {
     "data": {
      "text/plain": [
       "['Mon', 'Tue', 'Wed', 'Thu', 'Fri', 'Sat', 'Sun']"
      ]
     },
     "execution_count": 35,
     "metadata": {},
     "output_type": "execute_result"
    }
   ],
   "source": [
    "days"
   ]
  },
  {
   "cell_type": "code",
   "execution_count": 36,
   "metadata": {},
   "outputs": [
    {
     "data": {
      "text/plain": [
       "['morning', 'evening', 'night']"
      ]
     },
     "execution_count": 36,
     "metadata": {},
     "output_type": "execute_result"
    }
   ],
   "source": [
    "shifts"
   ]
  },
  {
   "cell_type": "code",
   "execution_count": 37,
   "metadata": {},
   "outputs": [],
   "source": [
    "# Initialize model and variables\n",
    "# Initialize model\n",
    "model = ConcreteModel()"
   ]
  },
  {
   "cell_type": "code",
   "execution_count": 38,
   "metadata": {},
   "outputs": [],
   "source": [
    "# binary variables representing if a worker is scheduled somewhere\n",
    "model.works = Var(((worker, day, shift) for worker in workers for day in days for shift in days_shifts[day]),\n",
    "                  within=Binary, initialize=0)"
   ]
  },
  {
   "cell_type": "markdown",
   "metadata": {},
   "source": [
    "works: binary variable indexed by workers, days and shifts. 1 if the worker has to work that day on that shift."
   ]
  },
  {
   "cell_type": "code",
   "execution_count": 39,
   "metadata": {},
   "outputs": [],
   "source": [
    "# binary variables representing if a worker is necessary\n",
    "model.needed = Var(workers, within=Binary, initialize=0)"
   ]
  },
  {
   "cell_type": "markdown",
   "metadata": {},
   "source": [
    "needed: binary variable indexed by workers. 1 if the worker is necessary to include in the workforce."
   ]
  },
  {
   "cell_type": "code",
   "execution_count": 40,
   "metadata": {},
   "outputs": [],
   "source": [
    "# binary variables representing if a worker worked on sunday but not on saturday (avoid if possible)\n",
    "model.no_pref = Var(workers, within=Binary, initialize=0)"
   ]
  },
  {
   "cell_type": "markdown",
   "metadata": {},
   "source": [
    "no_pref: binary variable indexed by workers. 1 if it does not work on Sunday but it does on Saturday."
   ]
  },
  {
   "cell_type": "code",
   "execution_count": 41,
   "metadata": {},
   "outputs": [
    {
     "data": {
      "text/plain": [
       "<pyomo.core.base.PyomoModel.ConcreteModel at 0x151e2c5ee8>"
      ]
     },
     "execution_count": 41,
     "metadata": {},
     "output_type": "execute_result"
    }
   ],
   "source": [
    "model"
   ]
  },
  {
   "cell_type": "code",
   "execution_count": 42,
   "metadata": {},
   "outputs": [
    {
     "data": {
      "text/plain": [
       "<pyomo.core.base.var.IndexedVar at 0x151e364438>"
      ]
     },
     "execution_count": 42,
     "metadata": {},
     "output_type": "execute_result"
    }
   ],
   "source": [
    "model.works"
   ]
  },
  {
   "cell_type": "code",
   "execution_count": 43,
   "metadata": {},
   "outputs": [
    {
     "data": {
      "text/plain": [
       "<pyomo.core.base.var.IndexedVar at 0x151e3645f8>"
      ]
     },
     "execution_count": 43,
     "metadata": {},
     "output_type": "execute_result"
    }
   ],
   "source": [
    "model.needed"
   ]
  },
  {
   "cell_type": "code",
   "execution_count": 44,
   "metadata": {},
   "outputs": [
    {
     "data": {
      "text/plain": [
       "<pyomo.core.base.var.IndexedVar at 0x151e364470>"
      ]
     },
     "execution_count": 44,
     "metadata": {},
     "output_type": "execute_result"
    }
   ],
   "source": [
    "model.no_pref"
   ]
  },
  {
   "cell_type": "code",
   "execution_count": 45,
   "metadata": {},
   "outputs": [],
   "source": [
    "# Define the objective function\n",
    "# Define an objective function with model as input, to pass later\n",
    "def obj_rule(m):\n",
    "    c = len(workers)\n",
    "    return sum(m.no_pref[worker] for worker in workers) + sum(c * m.needed[worker] for worker in workers)\n",
    "# we multiply the second term by a constant to make sure that it is the primary objective\n",
    "# since sum(m.no_prefer) is at most len(workers), len(workers) + 1 is a valid constant.\n",
    "\n",
    "\n",
    "# add objective function to the model. rule (pass function) or expr (pass expression directly)\n",
    "model.obj = Objective(rule=obj_rule, sense=minimize)"
   ]
  },
  {
   "cell_type": "markdown",
   "metadata": {},
   "source": [
    "The objective is to find a schedule that minimizes the number of workers and once this is achieved, also the number of workers that work on Sundays but not on Saturdays. We multiplied the part of the number of workers by a constant big enough so that minimizing the weekend preference is considered only after deciding the optimal number of workers."
   ]
  },
  {
   "cell_type": "markdown",
   "metadata": {},
   "source": [
    "We also need to add the constraints, creating first a container of constraints calling ConstraintList() and then adding whatever constraints we want to the container with the function add. Code for the constraints is the following, with the explanation of each one as inline comments:"
   ]
  },
  {
   "cell_type": "code",
   "execution_count": 46,
   "metadata": {},
   "outputs": [],
   "source": [
    "# Add model constraints\n",
    "model.constraints = ConstraintList()  # Create a set of constraints\n",
    "\n",
    "# Constraint: all shifts are assigned\n",
    "for day in days:\n",
    "    for shift in days_shifts[day]:\n",
    "        if day in days[:-1] and shift in ['morning', 'evening']:\n",
    "            # weekdays' and Saturdays' day shifts have exactly two workers\n",
    "            model.constraints.add(  # to add a constraint to model.constraints set\n",
    "                2 == sum(model.works[worker, day, shift] for worker in workers)\n",
    "            )\n",
    "        else:\n",
    "            # Sundays' and nights' shifts have exactly one worker\n",
    "            model.constraints.add(\n",
    "                1 == sum(model.works[worker, day, shift] for worker in workers)\n",
    "            )\n",
    "\n",
    "# Constraint: no more than 40 hours worked\n",
    "for worker in workers:\n",
    "    model.constraints.add(\n",
    "        40 >= sum(8 * model.works[worker, day, shift] for day in days for shift in days_shifts[day])\n",
    "    )\n",
    "\n",
    "# Constraint: rest between two shifts is of 12 hours (i.e., at least two shifts)\n",
    "for worker in workers:\n",
    "    for j in range(len(days)):\n",
    "        # if working in morning, cannot work again that day\n",
    "        model.constraints.add(\n",
    "            1 >= sum(model.works[worker, days[j], shift] for shift in days_shifts[days[j]])\n",
    "        )\n",
    "        # if working in evening, until next evening (note that after sunday comes next monday)\n",
    "        model.constraints.add(\n",
    "            1 >= sum(model.works[worker, days[j], shift] for shift in ['evening', 'night']) +\n",
    "            model.works[worker, days[(j + 1) % 7], 'morning']\n",
    "        )\n",
    "        # if working in night, until next night\n",
    "        model.constraints.add(\n",
    "            1 >= model.works[worker, days[j], 'night'] +\n",
    "            sum(model.works[worker, days[(j + 1) % 7], shift] for shift in ['morning', 'evening'])\n",
    "        )\n",
    "\n",
    "# Constraint (def of model.needed)\n",
    "for worker in workers:\n",
    "    model.constraints.add(\n",
    "        10000 * model.needed[worker] >= sum(model.works[worker, day, shift] for day in days for shift in days_shifts[day])\n",
    "    )  # if any model.works[worker, ·, ·] non-zero, model.needed[worker] must be one; else is zero to reduce the obj function\n",
    "    # 10000 is to remark, but 5 was enough since max of 40 hours yields max of 5 shifts, the maximum possible sum\n",
    "\n",
    "# Constraint (def of model.no_pref)\n",
    "for worker in workers:\n",
    "    model.constraints.add(\n",
    "        model.no_pref[worker] >= sum(model.works[worker, 'Sat', shift] for shift in days_shifts['Sat'])\n",
    "        - sum(model.works[worker, 'Sun', shift] for shift in days_shifts['Sun'])\n",
    "    )  # if not working on sunday but working saturday model.needed must be 1; else will be zero to reduce the obj function"
   ]
  },
  {
   "cell_type": "code",
   "execution_count": 47,
   "metadata": {},
   "outputs": [
    {
     "name": "stdout",
     "output_type": "stream",
     "text": [
      "4 Set Declarations\n",
      "    constraints_index : Dim=0, Dimen=1, Size=261, Domain=None, Ordered=False, Bounds=None\n",
      "        [1, 2, 3, 4, 5, 6, 7, 8, 9, 10, 11, 12, 13, 14, 15, 16, 17, 18, 19, 20, 21, 22, 23, 24, 25, 26, 27, 28, 29, 30, 31, 32, 33, 34, 35, 36, 37, 38, 39, 40, 41, 42, 43, 44, 45, 46, 47, 48, 49, 50, 51, 52, 53, 54, 55, 56, 57, 58, 59, 60, 61, 62, 63, 64, 65, 66, 67, 68, 69, 70, 71, 72, 73, 74, 75, 76, 77, 78, 79, 80, 81, 82, 83, 84, 85, 86, 87, 88, 89, 90, 91, 92, 93, 94, 95, 96, 97, 98, 99, 100, 101, 102, 103, 104, 105, 106, 107, 108, 109, 110, 111, 112, 113, 114, 115, 116, 117, 118, 119, 120, 121, 122, 123, 124, 125, 126, 127, 128, 129, 130, 131, 132, 133, 134, 135, 136, 137, 138, 139, 140, 141, 142, 143, 144, 145, 146, 147, 148, 149, 150, 151, 152, 153, 154, 155, 156, 157, 158, 159, 160, 161, 162, 163, 164, 165, 166, 167, 168, 169, 170, 171, 172, 173, 174, 175, 176, 177, 178, 179, 180, 181, 182, 183, 184, 185, 186, 187, 188, 189, 190, 191, 192, 193, 194, 195, 196, 197, 198, 199, 200, 201, 202, 203, 204, 205, 206, 207, 208, 209, 210, 211, 212, 213, 214, 215, 216, 217, 218, 219, 220, 221, 222, 223, 224, 225, 226, 227, 228, 229, 230, 231, 232, 233, 234, 235, 236, 237, 238, 239, 240, 241, 242, 243, 244, 245, 246, 247, 248, 249, 250, 251, 252, 253, 254, 255, 256, 257, 258, 259, 260, 261]\n",
      "    needed_index : Dim=0, Dimen=1, Size=10, Domain=None, Ordered=False, Bounds=None\n",
      "        ['W1', 'W10', 'W2', 'W3', 'W4', 'W5', 'W6', 'W7', 'W8', 'W9']\n",
      "    no_pref_index : Dim=0, Dimen=1, Size=10, Domain=None, Ordered=False, Bounds=None\n",
      "        ['W1', 'W10', 'W2', 'W3', 'W4', 'W5', 'W6', 'W7', 'W8', 'W9']\n",
      "    works_index : Dim=0, Dimen=3, Size=210, Domain=None, Ordered=False, Bounds=None\n",
      "        [('W1', 'Fri', 'evening'), ('W1', 'Fri', 'morning'), ('W1', 'Fri', 'night'), ('W1', 'Mon', 'evening'), ('W1', 'Mon', 'morning'), ('W1', 'Mon', 'night'), ('W1', 'Sat', 'evening'), ('W1', 'Sat', 'morning'), ('W1', 'Sat', 'night'), ('W1', 'Sun', 'evening'), ('W1', 'Sun', 'morning'), ('W1', 'Sun', 'night'), ('W1', 'Thu', 'evening'), ('W1', 'Thu', 'morning'), ('W1', 'Thu', 'night'), ('W1', 'Tue', 'evening'), ('W1', 'Tue', 'morning'), ('W1', 'Tue', 'night'), ('W1', 'Wed', 'evening'), ('W1', 'Wed', 'morning'), ('W1', 'Wed', 'night'), ('W10', 'Fri', 'evening'), ('W10', 'Fri', 'morning'), ('W10', 'Fri', 'night'), ('W10', 'Mon', 'evening'), ('W10', 'Mon', 'morning'), ('W10', 'Mon', 'night'), ('W10', 'Sat', 'evening'), ('W10', 'Sat', 'morning'), ('W10', 'Sat', 'night'), ('W10', 'Sun', 'evening'), ('W10', 'Sun', 'morning'), ('W10', 'Sun', 'night'), ('W10', 'Thu', 'evening'), ('W10', 'Thu', 'morning'), ('W10', 'Thu', 'night'), ('W10', 'Tue', 'evening'), ('W10', 'Tue', 'morning'), ('W10', 'Tue', 'night'), ('W10', 'Wed', 'evening'), ('W10', 'Wed', 'morning'), ('W10', 'Wed', 'night'), ('W2', 'Fri', 'evening'), ('W2', 'Fri', 'morning'), ('W2', 'Fri', 'night'), ('W2', 'Mon', 'evening'), ('W2', 'Mon', 'morning'), ('W2', 'Mon', 'night'), ('W2', 'Sat', 'evening'), ('W2', 'Sat', 'morning'), ('W2', 'Sat', 'night'), ('W2', 'Sun', 'evening'), ('W2', 'Sun', 'morning'), ('W2', 'Sun', 'night'), ('W2', 'Thu', 'evening'), ('W2', 'Thu', 'morning'), ('W2', 'Thu', 'night'), ('W2', 'Tue', 'evening'), ('W2', 'Tue', 'morning'), ('W2', 'Tue', 'night'), ('W2', 'Wed', 'evening'), ('W2', 'Wed', 'morning'), ('W2', 'Wed', 'night'), ('W3', 'Fri', 'evening'), ('W3', 'Fri', 'morning'), ('W3', 'Fri', 'night'), ('W3', 'Mon', 'evening'), ('W3', 'Mon', 'morning'), ('W3', 'Mon', 'night'), ('W3', 'Sat', 'evening'), ('W3', 'Sat', 'morning'), ('W3', 'Sat', 'night'), ('W3', 'Sun', 'evening'), ('W3', 'Sun', 'morning'), ('W3', 'Sun', 'night'), ('W3', 'Thu', 'evening'), ('W3', 'Thu', 'morning'), ('W3', 'Thu', 'night'), ('W3', 'Tue', 'evening'), ('W3', 'Tue', 'morning'), ('W3', 'Tue', 'night'), ('W3', 'Wed', 'evening'), ('W3', 'Wed', 'morning'), ('W3', 'Wed', 'night'), ('W4', 'Fri', 'evening'), ('W4', 'Fri', 'morning'), ('W4', 'Fri', 'night'), ('W4', 'Mon', 'evening'), ('W4', 'Mon', 'morning'), ('W4', 'Mon', 'night'), ('W4', 'Sat', 'evening'), ('W4', 'Sat', 'morning'), ('W4', 'Sat', 'night'), ('W4', 'Sun', 'evening'), ('W4', 'Sun', 'morning'), ('W4', 'Sun', 'night'), ('W4', 'Thu', 'evening'), ('W4', 'Thu', 'morning'), ('W4', 'Thu', 'night'), ('W4', 'Tue', 'evening'), ('W4', 'Tue', 'morning'), ('W4', 'Tue', 'night'), ('W4', 'Wed', 'evening'), ('W4', 'Wed', 'morning'), ('W4', 'Wed', 'night'), ('W5', 'Fri', 'evening'), ('W5', 'Fri', 'morning'), ('W5', 'Fri', 'night'), ('W5', 'Mon', 'evening'), ('W5', 'Mon', 'morning'), ('W5', 'Mon', 'night'), ('W5', 'Sat', 'evening'), ('W5', 'Sat', 'morning'), ('W5', 'Sat', 'night'), ('W5', 'Sun', 'evening'), ('W5', 'Sun', 'morning'), ('W5', 'Sun', 'night'), ('W5', 'Thu', 'evening'), ('W5', 'Thu', 'morning'), ('W5', 'Thu', 'night'), ('W5', 'Tue', 'evening'), ('W5', 'Tue', 'morning'), ('W5', 'Tue', 'night'), ('W5', 'Wed', 'evening'), ('W5', 'Wed', 'morning'), ('W5', 'Wed', 'night'), ('W6', 'Fri', 'evening'), ('W6', 'Fri', 'morning'), ('W6', 'Fri', 'night'), ('W6', 'Mon', 'evening'), ('W6', 'Mon', 'morning'), ('W6', 'Mon', 'night'), ('W6', 'Sat', 'evening'), ('W6', 'Sat', 'morning'), ('W6', 'Sat', 'night'), ('W6', 'Sun', 'evening'), ('W6', 'Sun', 'morning'), ('W6', 'Sun', 'night'), ('W6', 'Thu', 'evening'), ('W6', 'Thu', 'morning'), ('W6', 'Thu', 'night'), ('W6', 'Tue', 'evening'), ('W6', 'Tue', 'morning'), ('W6', 'Tue', 'night'), ('W6', 'Wed', 'evening'), ('W6', 'Wed', 'morning'), ('W6', 'Wed', 'night'), ('W7', 'Fri', 'evening'), ('W7', 'Fri', 'morning'), ('W7', 'Fri', 'night'), ('W7', 'Mon', 'evening'), ('W7', 'Mon', 'morning'), ('W7', 'Mon', 'night'), ('W7', 'Sat', 'evening'), ('W7', 'Sat', 'morning'), ('W7', 'Sat', 'night'), ('W7', 'Sun', 'evening'), ('W7', 'Sun', 'morning'), ('W7', 'Sun', 'night'), ('W7', 'Thu', 'evening'), ('W7', 'Thu', 'morning'), ('W7', 'Thu', 'night'), ('W7', 'Tue', 'evening'), ('W7', 'Tue', 'morning'), ('W7', 'Tue', 'night'), ('W7', 'Wed', 'evening'), ('W7', 'Wed', 'morning'), ('W7', 'Wed', 'night'), ('W8', 'Fri', 'evening'), ('W8', 'Fri', 'morning'), ('W8', 'Fri', 'night'), ('W8', 'Mon', 'evening'), ('W8', 'Mon', 'morning'), ('W8', 'Mon', 'night'), ('W8', 'Sat', 'evening'), ('W8', 'Sat', 'morning'), ('W8', 'Sat', 'night'), ('W8', 'Sun', 'evening'), ('W8', 'Sun', 'morning'), ('W8', 'Sun', 'night'), ('W8', 'Thu', 'evening'), ('W8', 'Thu', 'morning'), ('W8', 'Thu', 'night'), ('W8', 'Tue', 'evening'), ('W8', 'Tue', 'morning'), ('W8', 'Tue', 'night'), ('W8', 'Wed', 'evening'), ('W8', 'Wed', 'morning'), ('W8', 'Wed', 'night'), ('W9', 'Fri', 'evening'), ('W9', 'Fri', 'morning'), ('W9', 'Fri', 'night'), ('W9', 'Mon', 'evening'), ('W9', 'Mon', 'morning'), ('W9', 'Mon', 'night'), ('W9', 'Sat', 'evening'), ('W9', 'Sat', 'morning'), ('W9', 'Sat', 'night'), ('W9', 'Sun', 'evening'), ('W9', 'Sun', 'morning'), ('W9', 'Sun', 'night'), ('W9', 'Thu', 'evening'), ('W9', 'Thu', 'morning'), ('W9', 'Thu', 'night'), ('W9', 'Tue', 'evening'), ('W9', 'Tue', 'morning'), ('W9', 'Tue', 'night'), ('W9', 'Wed', 'evening'), ('W9', 'Wed', 'morning'), ('W9', 'Wed', 'night')]\n",
      "\n",
      "3 Var Declarations\n",
      "    needed : Size=10, Index=needed_index\n",
      "        Key : Lower : Value : Upper : Fixed : Stale : Domain\n",
      "         W1 :     0 :     0 :     1 : False : False : Binary\n",
      "        W10 :     0 :     0 :     1 : False : False : Binary\n",
      "         W2 :     0 :     0 :     1 : False : False : Binary\n",
      "         W3 :     0 :     0 :     1 : False : False : Binary\n",
      "         W4 :     0 :     0 :     1 : False : False : Binary\n",
      "         W5 :     0 :     0 :     1 : False : False : Binary\n",
      "         W6 :     0 :     0 :     1 : False : False : Binary\n",
      "         W7 :     0 :     0 :     1 : False : False : Binary\n",
      "         W8 :     0 :     0 :     1 : False : False : Binary\n",
      "         W9 :     0 :     0 :     1 : False : False : Binary\n",
      "    no_pref : Size=10, Index=no_pref_index\n",
      "        Key : Lower : Value : Upper : Fixed : Stale : Domain\n",
      "         W1 :     0 :     0 :     1 : False : False : Binary\n",
      "        W10 :     0 :     0 :     1 : False : False : Binary\n",
      "         W2 :     0 :     0 :     1 : False : False : Binary\n",
      "         W3 :     0 :     0 :     1 : False : False : Binary\n",
      "         W4 :     0 :     0 :     1 : False : False : Binary\n",
      "         W5 :     0 :     0 :     1 : False : False : Binary\n",
      "         W6 :     0 :     0 :     1 : False : False : Binary\n",
      "         W7 :     0 :     0 :     1 : False : False : Binary\n",
      "         W8 :     0 :     0 :     1 : False : False : Binary\n",
      "         W9 :     0 :     0 :     1 : False : False : Binary\n",
      "    works : Size=210, Index=works_index\n",
      "        Key                       : Lower : Value : Upper : Fixed : Stale : Domain\n",
      "         ('W1', 'Fri', 'evening') :     0 :     0 :     1 : False : False : Binary\n",
      "         ('W1', 'Fri', 'morning') :     0 :     0 :     1 : False : False : Binary\n",
      "           ('W1', 'Fri', 'night') :     0 :     0 :     1 : False : False : Binary\n",
      "         ('W1', 'Mon', 'evening') :     0 :     0 :     1 : False : False : Binary\n",
      "         ('W1', 'Mon', 'morning') :     0 :     0 :     1 : False : False : Binary\n",
      "           ('W1', 'Mon', 'night') :     0 :     0 :     1 : False : False : Binary\n",
      "         ('W1', 'Sat', 'evening') :     0 :     0 :     1 : False : False : Binary\n",
      "         ('W1', 'Sat', 'morning') :     0 :     0 :     1 : False : False : Binary\n",
      "           ('W1', 'Sat', 'night') :     0 :     0 :     1 : False : False : Binary\n",
      "         ('W1', 'Sun', 'evening') :     0 :     0 :     1 : False : False : Binary\n",
      "         ('W1', 'Sun', 'morning') :     0 :     0 :     1 : False : False : Binary\n",
      "           ('W1', 'Sun', 'night') :     0 :     0 :     1 : False : False : Binary\n",
      "         ('W1', 'Thu', 'evening') :     0 :     0 :     1 : False : False : Binary\n",
      "         ('W1', 'Thu', 'morning') :     0 :     0 :     1 : False : False : Binary\n",
      "           ('W1', 'Thu', 'night') :     0 :     0 :     1 : False : False : Binary\n",
      "         ('W1', 'Tue', 'evening') :     0 :     0 :     1 : False : False : Binary\n",
      "         ('W1', 'Tue', 'morning') :     0 :     0 :     1 : False : False : Binary\n",
      "           ('W1', 'Tue', 'night') :     0 :     0 :     1 : False : False : Binary\n",
      "         ('W1', 'Wed', 'evening') :     0 :     0 :     1 : False : False : Binary\n",
      "         ('W1', 'Wed', 'morning') :     0 :     0 :     1 : False : False : Binary\n",
      "           ('W1', 'Wed', 'night') :     0 :     0 :     1 : False : False : Binary\n",
      "        ('W10', 'Fri', 'evening') :     0 :     0 :     1 : False : False : Binary\n",
      "        ('W10', 'Fri', 'morning') :     0 :     0 :     1 : False : False : Binary\n",
      "          ('W10', 'Fri', 'night') :     0 :     0 :     1 : False : False : Binary\n",
      "        ('W10', 'Mon', 'evening') :     0 :     0 :     1 : False : False : Binary\n",
      "        ('W10', 'Mon', 'morning') :     0 :     0 :     1 : False : False : Binary\n",
      "          ('W10', 'Mon', 'night') :     0 :     0 :     1 : False : False : Binary\n",
      "        ('W10', 'Sat', 'evening') :     0 :     0 :     1 : False : False : Binary\n",
      "        ('W10', 'Sat', 'morning') :     0 :     0 :     1 : False : False : Binary\n",
      "          ('W10', 'Sat', 'night') :     0 :     0 :     1 : False : False : Binary\n",
      "        ('W10', 'Sun', 'evening') :     0 :     0 :     1 : False : False : Binary\n",
      "        ('W10', 'Sun', 'morning') :     0 :     0 :     1 : False : False : Binary\n",
      "          ('W10', 'Sun', 'night') :     0 :     0 :     1 : False : False : Binary\n",
      "        ('W10', 'Thu', 'evening') :     0 :     0 :     1 : False : False : Binary\n",
      "        ('W10', 'Thu', 'morning') :     0 :     0 :     1 : False : False : Binary\n",
      "          ('W10', 'Thu', 'night') :     0 :     0 :     1 : False : False : Binary\n",
      "        ('W10', 'Tue', 'evening') :     0 :     0 :     1 : False : False : Binary\n",
      "        ('W10', 'Tue', 'morning') :     0 :     0 :     1 : False : False : Binary\n",
      "          ('W10', 'Tue', 'night') :     0 :     0 :     1 : False : False : Binary\n",
      "        ('W10', 'Wed', 'evening') :     0 :     0 :     1 : False : False : Binary\n",
      "        ('W10', 'Wed', 'morning') :     0 :     0 :     1 : False : False : Binary\n",
      "          ('W10', 'Wed', 'night') :     0 :     0 :     1 : False : False : Binary\n",
      "         ('W2', 'Fri', 'evening') :     0 :     0 :     1 : False : False : Binary\n",
      "         ('W2', 'Fri', 'morning') :     0 :     0 :     1 : False : False : Binary\n",
      "           ('W2', 'Fri', 'night') :     0 :     0 :     1 : False : False : Binary\n",
      "         ('W2', 'Mon', 'evening') :     0 :     0 :     1 : False : False : Binary\n",
      "         ('W2', 'Mon', 'morning') :     0 :     0 :     1 : False : False : Binary\n",
      "           ('W2', 'Mon', 'night') :     0 :     0 :     1 : False : False : Binary\n",
      "         ('W2', 'Sat', 'evening') :     0 :     0 :     1 : False : False : Binary\n",
      "         ('W2', 'Sat', 'morning') :     0 :     0 :     1 : False : False : Binary\n",
      "           ('W2', 'Sat', 'night') :     0 :     0 :     1 : False : False : Binary\n",
      "         ('W2', 'Sun', 'evening') :     0 :     0 :     1 : False : False : Binary\n",
      "         ('W2', 'Sun', 'morning') :     0 :     0 :     1 : False : False : Binary\n",
      "           ('W2', 'Sun', 'night') :     0 :     0 :     1 : False : False : Binary\n",
      "         ('W2', 'Thu', 'evening') :     0 :     0 :     1 : False : False : Binary\n",
      "         ('W2', 'Thu', 'morning') :     0 :     0 :     1 : False : False : Binary\n",
      "           ('W2', 'Thu', 'night') :     0 :     0 :     1 : False : False : Binary\n",
      "         ('W2', 'Tue', 'evening') :     0 :     0 :     1 : False : False : Binary\n",
      "         ('W2', 'Tue', 'morning') :     0 :     0 :     1 : False : False : Binary\n",
      "           ('W2', 'Tue', 'night') :     0 :     0 :     1 : False : False : Binary\n",
      "         ('W2', 'Wed', 'evening') :     0 :     0 :     1 : False : False : Binary\n",
      "         ('W2', 'Wed', 'morning') :     0 :     0 :     1 : False : False : Binary\n",
      "           ('W2', 'Wed', 'night') :     0 :     0 :     1 : False : False : Binary\n",
      "         ('W3', 'Fri', 'evening') :     0 :     0 :     1 : False : False : Binary\n",
      "         ('W3', 'Fri', 'morning') :     0 :     0 :     1 : False : False : Binary\n",
      "           ('W3', 'Fri', 'night') :     0 :     0 :     1 : False : False : Binary\n",
      "         ('W3', 'Mon', 'evening') :     0 :     0 :     1 : False : False : Binary\n",
      "         ('W3', 'Mon', 'morning') :     0 :     0 :     1 : False : False : Binary\n",
      "           ('W3', 'Mon', 'night') :     0 :     0 :     1 : False : False : Binary\n",
      "         ('W3', 'Sat', 'evening') :     0 :     0 :     1 : False : False : Binary\n",
      "         ('W3', 'Sat', 'morning') :     0 :     0 :     1 : False : False : Binary\n",
      "           ('W3', 'Sat', 'night') :     0 :     0 :     1 : False : False : Binary\n",
      "         ('W3', 'Sun', 'evening') :     0 :     0 :     1 : False : False : Binary\n",
      "         ('W3', 'Sun', 'morning') :     0 :     0 :     1 : False : False : Binary\n",
      "           ('W3', 'Sun', 'night') :     0 :     0 :     1 : False : False : Binary\n",
      "         ('W3', 'Thu', 'evening') :     0 :     0 :     1 : False : False : Binary\n",
      "         ('W3', 'Thu', 'morning') :     0 :     0 :     1 : False : False : Binary\n",
      "           ('W3', 'Thu', 'night') :     0 :     0 :     1 : False : False : Binary\n",
      "         ('W3', 'Tue', 'evening') :     0 :     0 :     1 : False : False : Binary\n",
      "         ('W3', 'Tue', 'morning') :     0 :     0 :     1 : False : False : Binary\n",
      "           ('W3', 'Tue', 'night') :     0 :     0 :     1 : False : False : Binary\n",
      "         ('W3', 'Wed', 'evening') :     0 :     0 :     1 : False : False : Binary\n",
      "         ('W3', 'Wed', 'morning') :     0 :     0 :     1 : False : False : Binary\n",
      "           ('W3', 'Wed', 'night') :     0 :     0 :     1 : False : False : Binary\n",
      "         ('W4', 'Fri', 'evening') :     0 :     0 :     1 : False : False : Binary\n",
      "         ('W4', 'Fri', 'morning') :     0 :     0 :     1 : False : False : Binary\n",
      "           ('W4', 'Fri', 'night') :     0 :     0 :     1 : False : False : Binary\n",
      "         ('W4', 'Mon', 'evening') :     0 :     0 :     1 : False : False : Binary\n",
      "         ('W4', 'Mon', 'morning') :     0 :     0 :     1 : False : False : Binary\n",
      "           ('W4', 'Mon', 'night') :     0 :     0 :     1 : False : False : Binary\n",
      "         ('W4', 'Sat', 'evening') :     0 :     0 :     1 : False : False : Binary\n",
      "         ('W4', 'Sat', 'morning') :     0 :     0 :     1 : False : False : Binary\n",
      "           ('W4', 'Sat', 'night') :     0 :     0 :     1 : False : False : Binary\n",
      "         ('W4', 'Sun', 'evening') :     0 :     0 :     1 : False : False : Binary\n",
      "         ('W4', 'Sun', 'morning') :     0 :     0 :     1 : False : False : Binary\n",
      "           ('W4', 'Sun', 'night') :     0 :     0 :     1 : False : False : Binary\n",
      "         ('W4', 'Thu', 'evening') :     0 :     0 :     1 : False : False : Binary\n",
      "         ('W4', 'Thu', 'morning') :     0 :     0 :     1 : False : False : Binary\n",
      "           ('W4', 'Thu', 'night') :     0 :     0 :     1 : False : False : Binary\n",
      "         ('W4', 'Tue', 'evening') :     0 :     0 :     1 : False : False : Binary\n",
      "         ('W4', 'Tue', 'morning') :     0 :     0 :     1 : False : False : Binary\n",
      "           ('W4', 'Tue', 'night') :     0 :     0 :     1 : False : False : Binary\n",
      "         ('W4', 'Wed', 'evening') :     0 :     0 :     1 : False : False : Binary\n",
      "         ('W4', 'Wed', 'morning') :     0 :     0 :     1 : False : False : Binary\n",
      "           ('W4', 'Wed', 'night') :     0 :     0 :     1 : False : False : Binary\n",
      "         ('W5', 'Fri', 'evening') :     0 :     0 :     1 : False : False : Binary\n",
      "         ('W5', 'Fri', 'morning') :     0 :     0 :     1 : False : False : Binary\n",
      "           ('W5', 'Fri', 'night') :     0 :     0 :     1 : False : False : Binary\n",
      "         ('W5', 'Mon', 'evening') :     0 :     0 :     1 : False : False : Binary\n",
      "         ('W5', 'Mon', 'morning') :     0 :     0 :     1 : False : False : Binary\n",
      "           ('W5', 'Mon', 'night') :     0 :     0 :     1 : False : False : Binary\n",
      "         ('W5', 'Sat', 'evening') :     0 :     0 :     1 : False : False : Binary\n",
      "         ('W5', 'Sat', 'morning') :     0 :     0 :     1 : False : False : Binary\n",
      "           ('W5', 'Sat', 'night') :     0 :     0 :     1 : False : False : Binary\n",
      "         ('W5', 'Sun', 'evening') :     0 :     0 :     1 : False : False : Binary\n",
      "         ('W5', 'Sun', 'morning') :     0 :     0 :     1 : False : False : Binary\n",
      "           ('W5', 'Sun', 'night') :     0 :     0 :     1 : False : False : Binary\n",
      "         ('W5', 'Thu', 'evening') :     0 :     0 :     1 : False : False : Binary\n",
      "         ('W5', 'Thu', 'morning') :     0 :     0 :     1 : False : False : Binary\n",
      "           ('W5', 'Thu', 'night') :     0 :     0 :     1 : False : False : Binary\n",
      "         ('W5', 'Tue', 'evening') :     0 :     0 :     1 : False : False : Binary\n",
      "         ('W5', 'Tue', 'morning') :     0 :     0 :     1 : False : False : Binary\n",
      "           ('W5', 'Tue', 'night') :     0 :     0 :     1 : False : False : Binary\n",
      "         ('W5', 'Wed', 'evening') :     0 :     0 :     1 : False : False : Binary\n",
      "         ('W5', 'Wed', 'morning') :     0 :     0 :     1 : False : False : Binary\n",
      "           ('W5', 'Wed', 'night') :     0 :     0 :     1 : False : False : Binary\n",
      "         ('W6', 'Fri', 'evening') :     0 :     0 :     1 : False : False : Binary\n",
      "         ('W6', 'Fri', 'morning') :     0 :     0 :     1 : False : False : Binary\n",
      "           ('W6', 'Fri', 'night') :     0 :     0 :     1 : False : False : Binary\n",
      "         ('W6', 'Mon', 'evening') :     0 :     0 :     1 : False : False : Binary\n",
      "         ('W6', 'Mon', 'morning') :     0 :     0 :     1 : False : False : Binary\n",
      "           ('W6', 'Mon', 'night') :     0 :     0 :     1 : False : False : Binary\n",
      "         ('W6', 'Sat', 'evening') :     0 :     0 :     1 : False : False : Binary\n",
      "         ('W6', 'Sat', 'morning') :     0 :     0 :     1 : False : False : Binary\n",
      "           ('W6', 'Sat', 'night') :     0 :     0 :     1 : False : False : Binary\n",
      "         ('W6', 'Sun', 'evening') :     0 :     0 :     1 : False : False : Binary\n",
      "         ('W6', 'Sun', 'morning') :     0 :     0 :     1 : False : False : Binary\n",
      "           ('W6', 'Sun', 'night') :     0 :     0 :     1 : False : False : Binary\n",
      "         ('W6', 'Thu', 'evening') :     0 :     0 :     1 : False : False : Binary\n",
      "         ('W6', 'Thu', 'morning') :     0 :     0 :     1 : False : False : Binary\n",
      "           ('W6', 'Thu', 'night') :     0 :     0 :     1 : False : False : Binary\n",
      "         ('W6', 'Tue', 'evening') :     0 :     0 :     1 : False : False : Binary\n",
      "         ('W6', 'Tue', 'morning') :     0 :     0 :     1 : False : False : Binary\n",
      "           ('W6', 'Tue', 'night') :     0 :     0 :     1 : False : False : Binary\n",
      "         ('W6', 'Wed', 'evening') :     0 :     0 :     1 : False : False : Binary\n",
      "         ('W6', 'Wed', 'morning') :     0 :     0 :     1 : False : False : Binary\n",
      "           ('W6', 'Wed', 'night') :     0 :     0 :     1 : False : False : Binary\n",
      "         ('W7', 'Fri', 'evening') :     0 :     0 :     1 : False : False : Binary\n",
      "         ('W7', 'Fri', 'morning') :     0 :     0 :     1 : False : False : Binary\n",
      "           ('W7', 'Fri', 'night') :     0 :     0 :     1 : False : False : Binary\n",
      "         ('W7', 'Mon', 'evening') :     0 :     0 :     1 : False : False : Binary\n",
      "         ('W7', 'Mon', 'morning') :     0 :     0 :     1 : False : False : Binary\n",
      "           ('W7', 'Mon', 'night') :     0 :     0 :     1 : False : False : Binary\n",
      "         ('W7', 'Sat', 'evening') :     0 :     0 :     1 : False : False : Binary\n",
      "         ('W7', 'Sat', 'morning') :     0 :     0 :     1 : False : False : Binary\n",
      "           ('W7', 'Sat', 'night') :     0 :     0 :     1 : False : False : Binary\n",
      "         ('W7', 'Sun', 'evening') :     0 :     0 :     1 : False : False : Binary\n",
      "         ('W7', 'Sun', 'morning') :     0 :     0 :     1 : False : False : Binary\n",
      "           ('W7', 'Sun', 'night') :     0 :     0 :     1 : False : False : Binary\n",
      "         ('W7', 'Thu', 'evening') :     0 :     0 :     1 : False : False : Binary\n",
      "         ('W7', 'Thu', 'morning') :     0 :     0 :     1 : False : False : Binary\n",
      "           ('W7', 'Thu', 'night') :     0 :     0 :     1 : False : False : Binary\n",
      "         ('W7', 'Tue', 'evening') :     0 :     0 :     1 : False : False : Binary\n",
      "         ('W7', 'Tue', 'morning') :     0 :     0 :     1 : False : False : Binary\n",
      "           ('W7', 'Tue', 'night') :     0 :     0 :     1 : False : False : Binary\n",
      "         ('W7', 'Wed', 'evening') :     0 :     0 :     1 : False : False : Binary\n",
      "         ('W7', 'Wed', 'morning') :     0 :     0 :     1 : False : False : Binary\n",
      "           ('W7', 'Wed', 'night') :     0 :     0 :     1 : False : False : Binary\n",
      "         ('W8', 'Fri', 'evening') :     0 :     0 :     1 : False : False : Binary\n",
      "         ('W8', 'Fri', 'morning') :     0 :     0 :     1 : False : False : Binary\n",
      "           ('W8', 'Fri', 'night') :     0 :     0 :     1 : False : False : Binary\n",
      "         ('W8', 'Mon', 'evening') :     0 :     0 :     1 : False : False : Binary\n",
      "         ('W8', 'Mon', 'morning') :     0 :     0 :     1 : False : False : Binary\n",
      "           ('W8', 'Mon', 'night') :     0 :     0 :     1 : False : False : Binary\n",
      "         ('W8', 'Sat', 'evening') :     0 :     0 :     1 : False : False : Binary\n",
      "         ('W8', 'Sat', 'morning') :     0 :     0 :     1 : False : False : Binary\n",
      "           ('W8', 'Sat', 'night') :     0 :     0 :     1 : False : False : Binary\n",
      "         ('W8', 'Sun', 'evening') :     0 :     0 :     1 : False : False : Binary\n",
      "         ('W8', 'Sun', 'morning') :     0 :     0 :     1 : False : False : Binary\n",
      "           ('W8', 'Sun', 'night') :     0 :     0 :     1 : False : False : Binary\n",
      "         ('W8', 'Thu', 'evening') :     0 :     0 :     1 : False : False : Binary\n",
      "         ('W8', 'Thu', 'morning') :     0 :     0 :     1 : False : False : Binary\n",
      "           ('W8', 'Thu', 'night') :     0 :     0 :     1 : False : False : Binary\n",
      "         ('W8', 'Tue', 'evening') :     0 :     0 :     1 : False : False : Binary\n",
      "         ('W8', 'Tue', 'morning') :     0 :     0 :     1 : False : False : Binary\n",
      "           ('W8', 'Tue', 'night') :     0 :     0 :     1 : False : False : Binary\n",
      "         ('W8', 'Wed', 'evening') :     0 :     0 :     1 : False : False : Binary\n",
      "         ('W8', 'Wed', 'morning') :     0 :     0 :     1 : False : False : Binary\n",
      "           ('W8', 'Wed', 'night') :     0 :     0 :     1 : False : False : Binary\n",
      "         ('W9', 'Fri', 'evening') :     0 :     0 :     1 : False : False : Binary\n",
      "         ('W9', 'Fri', 'morning') :     0 :     0 :     1 : False : False : Binary\n",
      "           ('W9', 'Fri', 'night') :     0 :     0 :     1 : False : False : Binary\n",
      "         ('W9', 'Mon', 'evening') :     0 :     0 :     1 : False : False : Binary\n",
      "         ('W9', 'Mon', 'morning') :     0 :     0 :     1 : False : False : Binary\n",
      "           ('W9', 'Mon', 'night') :     0 :     0 :     1 : False : False : Binary\n",
      "         ('W9', 'Sat', 'evening') :     0 :     0 :     1 : False : False : Binary\n",
      "         ('W9', 'Sat', 'morning') :     0 :     0 :     1 : False : False : Binary\n",
      "           ('W9', 'Sat', 'night') :     0 :     0 :     1 : False : False : Binary\n",
      "         ('W9', 'Sun', 'evening') :     0 :     0 :     1 : False : False : Binary\n",
      "         ('W9', 'Sun', 'morning') :     0 :     0 :     1 : False : False : Binary\n",
      "           ('W9', 'Sun', 'night') :     0 :     0 :     1 : False : False : Binary\n",
      "         ('W9', 'Thu', 'evening') :     0 :     0 :     1 : False : False : Binary\n",
      "         ('W9', 'Thu', 'morning') :     0 :     0 :     1 : False : False : Binary\n",
      "           ('W9', 'Thu', 'night') :     0 :     0 :     1 : False : False : Binary\n",
      "         ('W9', 'Tue', 'evening') :     0 :     0 :     1 : False : False : Binary\n",
      "         ('W9', 'Tue', 'morning') :     0 :     0 :     1 : False : False : Binary\n",
      "           ('W9', 'Tue', 'night') :     0 :     0 :     1 : False : False : Binary\n",
      "         ('W9', 'Wed', 'evening') :     0 :     0 :     1 : False : False : Binary\n",
      "         ('W9', 'Wed', 'morning') :     0 :     0 :     1 : False : False : Binary\n",
      "           ('W9', 'Wed', 'night') :     0 :     0 :     1 : False : False : Binary\n",
      "\n",
      "1 Objective Declarations\n",
      "    obj : Size=1, Index=None, Active=True\n",
      "        Key  : Active : Sense    : Expression\n",
      "        None :   True : minimize : no_pref[W1] + no_pref[W2] + no_pref[W3] + no_pref[W4] + no_pref[W5] + no_pref[W6] + no_pref[W7] + no_pref[W8] + no_pref[W9] + no_pref[W10] + 10*needed[W1] + 10*needed[W2] + 10*needed[W3] + 10*needed[W4] + 10*needed[W5] + 10*needed[W6] + 10*needed[W7] + 10*needed[W8] + 10*needed[W9] + 10*needed[W10]\n",
      "\n",
      "1 Constraint Declarations\n",
      "    constraints : Size=261, Index=constraints_index, Active=True\n",
      "        Key : Lower : Body                                                                                                                                                                                                                                                                                                                                                                                                                                                                                                                                                                   : Upper : Active\n",
      "          1 :   2.0 :                                                                                                                                                                                                                                                                                                                         works[W1,Mon,morning] + works[W2,Mon,morning] + works[W3,Mon,morning] + works[W4,Mon,morning] + works[W5,Mon,morning] + works[W6,Mon,morning] + works[W7,Mon,morning] + works[W8,Mon,morning] + works[W9,Mon,morning] + works[W10,Mon,morning] :   2.0 :   True\n",
      "          2 :   2.0 :                                                                                                                                                                                                                                                                                                                         works[W1,Mon,evening] + works[W2,Mon,evening] + works[W3,Mon,evening] + works[W4,Mon,evening] + works[W5,Mon,evening] + works[W6,Mon,evening] + works[W7,Mon,evening] + works[W8,Mon,evening] + works[W9,Mon,evening] + works[W10,Mon,evening] :   2.0 :   True\n",
      "          3 :   1.0 :                                                                                                                                                                                                                                                                                                                                             works[W1,Mon,night] + works[W2,Mon,night] + works[W3,Mon,night] + works[W4,Mon,night] + works[W5,Mon,night] + works[W6,Mon,night] + works[W7,Mon,night] + works[W8,Mon,night] + works[W9,Mon,night] + works[W10,Mon,night] :   1.0 :   True\n",
      "          4 :   2.0 :                                                                                                                                                                                                                                                                                                                         works[W1,Tue,morning] + works[W2,Tue,morning] + works[W3,Tue,morning] + works[W4,Tue,morning] + works[W5,Tue,morning] + works[W6,Tue,morning] + works[W7,Tue,morning] + works[W8,Tue,morning] + works[W9,Tue,morning] + works[W10,Tue,morning] :   2.0 :   True\n",
      "          5 :   2.0 :                                                                                                                                                                                                                                                                                                                         works[W1,Tue,evening] + works[W2,Tue,evening] + works[W3,Tue,evening] + works[W4,Tue,evening] + works[W5,Tue,evening] + works[W6,Tue,evening] + works[W7,Tue,evening] + works[W8,Tue,evening] + works[W9,Tue,evening] + works[W10,Tue,evening] :   2.0 :   True\n",
      "          6 :   1.0 :                                                                                                                                                                                                                                                                                                                                             works[W1,Tue,night] + works[W2,Tue,night] + works[W3,Tue,night] + works[W4,Tue,night] + works[W5,Tue,night] + works[W6,Tue,night] + works[W7,Tue,night] + works[W8,Tue,night] + works[W9,Tue,night] + works[W10,Tue,night] :   1.0 :   True\n",
      "          7 :   2.0 :                                                                                                                                                                                                                                                                                                                         works[W1,Wed,morning] + works[W2,Wed,morning] + works[W3,Wed,morning] + works[W4,Wed,morning] + works[W5,Wed,morning] + works[W6,Wed,morning] + works[W7,Wed,morning] + works[W8,Wed,morning] + works[W9,Wed,morning] + works[W10,Wed,morning] :   2.0 :   True\n",
      "          8 :   2.0 :                                                                                                                                                                                                                                                                                                                         works[W1,Wed,evening] + works[W2,Wed,evening] + works[W3,Wed,evening] + works[W4,Wed,evening] + works[W5,Wed,evening] + works[W6,Wed,evening] + works[W7,Wed,evening] + works[W8,Wed,evening] + works[W9,Wed,evening] + works[W10,Wed,evening] :   2.0 :   True\n",
      "          9 :   1.0 :                                                                                                                                                                                                                                                                                                                                             works[W1,Wed,night] + works[W2,Wed,night] + works[W3,Wed,night] + works[W4,Wed,night] + works[W5,Wed,night] + works[W6,Wed,night] + works[W7,Wed,night] + works[W8,Wed,night] + works[W9,Wed,night] + works[W10,Wed,night] :   1.0 :   True\n",
      "         10 :   2.0 :                                                                                                                                                                                                                                                                                                                         works[W1,Thu,morning] + works[W2,Thu,morning] + works[W3,Thu,morning] + works[W4,Thu,morning] + works[W5,Thu,morning] + works[W6,Thu,morning] + works[W7,Thu,morning] + works[W8,Thu,morning] + works[W9,Thu,morning] + works[W10,Thu,morning] :   2.0 :   True\n",
      "         11 :   2.0 :                                                                                                                                                                                                                                                                                                                         works[W1,Thu,evening] + works[W2,Thu,evening] + works[W3,Thu,evening] + works[W4,Thu,evening] + works[W5,Thu,evening] + works[W6,Thu,evening] + works[W7,Thu,evening] + works[W8,Thu,evening] + works[W9,Thu,evening] + works[W10,Thu,evening] :   2.0 :   True\n",
      "         12 :   1.0 :                                                                                                                                                                                                                                                                                                                                             works[W1,Thu,night] + works[W2,Thu,night] + works[W3,Thu,night] + works[W4,Thu,night] + works[W5,Thu,night] + works[W6,Thu,night] + works[W7,Thu,night] + works[W8,Thu,night] + works[W9,Thu,night] + works[W10,Thu,night] :   1.0 :   True\n",
      "         13 :   2.0 :                                                                                                                                                                                                                                                                                                                         works[W1,Fri,morning] + works[W2,Fri,morning] + works[W3,Fri,morning] + works[W4,Fri,morning] + works[W5,Fri,morning] + works[W6,Fri,morning] + works[W7,Fri,morning] + works[W8,Fri,morning] + works[W9,Fri,morning] + works[W10,Fri,morning] :   2.0 :   True\n",
      "         14 :   2.0 :                                                                                                                                                                                                                                                                                                                         works[W1,Fri,evening] + works[W2,Fri,evening] + works[W3,Fri,evening] + works[W4,Fri,evening] + works[W5,Fri,evening] + works[W6,Fri,evening] + works[W7,Fri,evening] + works[W8,Fri,evening] + works[W9,Fri,evening] + works[W10,Fri,evening] :   2.0 :   True\n",
      "         15 :   1.0 :                                                                                                                                                                                                                                                                                                                                             works[W1,Fri,night] + works[W2,Fri,night] + works[W3,Fri,night] + works[W4,Fri,night] + works[W5,Fri,night] + works[W6,Fri,night] + works[W7,Fri,night] + works[W8,Fri,night] + works[W9,Fri,night] + works[W10,Fri,night] :   1.0 :   True\n",
      "         16 :   2.0 :                                                                                                                                                                                                                                                                                                                         works[W1,Sat,morning] + works[W2,Sat,morning] + works[W3,Sat,morning] + works[W4,Sat,morning] + works[W5,Sat,morning] + works[W6,Sat,morning] + works[W7,Sat,morning] + works[W8,Sat,morning] + works[W9,Sat,morning] + works[W10,Sat,morning] :   2.0 :   True\n",
      "         17 :   2.0 :                                                                                                                                                                                                                                                                                                                         works[W1,Sat,evening] + works[W2,Sat,evening] + works[W3,Sat,evening] + works[W4,Sat,evening] + works[W5,Sat,evening] + works[W6,Sat,evening] + works[W7,Sat,evening] + works[W8,Sat,evening] + works[W9,Sat,evening] + works[W10,Sat,evening] :   2.0 :   True\n",
      "         18 :   1.0 :                                                                                                                                                                                                                                                                                                                                             works[W1,Sat,night] + works[W2,Sat,night] + works[W3,Sat,night] + works[W4,Sat,night] + works[W5,Sat,night] + works[W6,Sat,night] + works[W7,Sat,night] + works[W8,Sat,night] + works[W9,Sat,night] + works[W10,Sat,night] :   1.0 :   True\n",
      "         19 :   1.0 :                                                                                                                                                                                                                                                                                                                         works[W1,Sun,morning] + works[W2,Sun,morning] + works[W3,Sun,morning] + works[W4,Sun,morning] + works[W5,Sun,morning] + works[W6,Sun,morning] + works[W7,Sun,morning] + works[W8,Sun,morning] + works[W9,Sun,morning] + works[W10,Sun,morning] :   1.0 :   True\n",
      "         20 :   1.0 :                                                                                                                                                                                                                                                                                                                         works[W1,Sun,evening] + works[W2,Sun,evening] + works[W3,Sun,evening] + works[W4,Sun,evening] + works[W5,Sun,evening] + works[W6,Sun,evening] + works[W7,Sun,evening] + works[W8,Sun,evening] + works[W9,Sun,evening] + works[W10,Sun,evening] :   1.0 :   True\n",
      "         21 :   1.0 :                                                                                                                                                                                                                                                                                                                                             works[W1,Sun,night] + works[W2,Sun,night] + works[W3,Sun,night] + works[W4,Sun,night] + works[W5,Sun,night] + works[W6,Sun,night] + works[W7,Sun,night] + works[W8,Sun,night] + works[W9,Sun,night] + works[W10,Sun,night] :   1.0 :   True\n",
      "         22 :  -Inf :                      8*works[W1,Mon,morning] + 8*works[W1,Mon,evening] + 8*works[W1,Mon,night] + 8*works[W1,Tue,morning] + 8*works[W1,Tue,evening] + 8*works[W1,Tue,night] + 8*works[W1,Wed,morning] + 8*works[W1,Wed,evening] + 8*works[W1,Wed,night] + 8*works[W1,Thu,morning] + 8*works[W1,Thu,evening] + 8*works[W1,Thu,night] + 8*works[W1,Fri,morning] + 8*works[W1,Fri,evening] + 8*works[W1,Fri,night] + 8*works[W1,Sat,morning] + 8*works[W1,Sat,evening] + 8*works[W1,Sat,night] + 8*works[W1,Sun,morning] + 8*works[W1,Sun,evening] + 8*works[W1,Sun,night] :  40.0 :   True\n",
      "         23 :  -Inf :                      8*works[W2,Mon,morning] + 8*works[W2,Mon,evening] + 8*works[W2,Mon,night] + 8*works[W2,Tue,morning] + 8*works[W2,Tue,evening] + 8*works[W2,Tue,night] + 8*works[W2,Wed,morning] + 8*works[W2,Wed,evening] + 8*works[W2,Wed,night] + 8*works[W2,Thu,morning] + 8*works[W2,Thu,evening] + 8*works[W2,Thu,night] + 8*works[W2,Fri,morning] + 8*works[W2,Fri,evening] + 8*works[W2,Fri,night] + 8*works[W2,Sat,morning] + 8*works[W2,Sat,evening] + 8*works[W2,Sat,night] + 8*works[W2,Sun,morning] + 8*works[W2,Sun,evening] + 8*works[W2,Sun,night] :  40.0 :   True\n",
      "         24 :  -Inf :                      8*works[W3,Mon,morning] + 8*works[W3,Mon,evening] + 8*works[W3,Mon,night] + 8*works[W3,Tue,morning] + 8*works[W3,Tue,evening] + 8*works[W3,Tue,night] + 8*works[W3,Wed,morning] + 8*works[W3,Wed,evening] + 8*works[W3,Wed,night] + 8*works[W3,Thu,morning] + 8*works[W3,Thu,evening] + 8*works[W3,Thu,night] + 8*works[W3,Fri,morning] + 8*works[W3,Fri,evening] + 8*works[W3,Fri,night] + 8*works[W3,Sat,morning] + 8*works[W3,Sat,evening] + 8*works[W3,Sat,night] + 8*works[W3,Sun,morning] + 8*works[W3,Sun,evening] + 8*works[W3,Sun,night] :  40.0 :   True\n",
      "         25 :  -Inf :                      8*works[W4,Mon,morning] + 8*works[W4,Mon,evening] + 8*works[W4,Mon,night] + 8*works[W4,Tue,morning] + 8*works[W4,Tue,evening] + 8*works[W4,Tue,night] + 8*works[W4,Wed,morning] + 8*works[W4,Wed,evening] + 8*works[W4,Wed,night] + 8*works[W4,Thu,morning] + 8*works[W4,Thu,evening] + 8*works[W4,Thu,night] + 8*works[W4,Fri,morning] + 8*works[W4,Fri,evening] + 8*works[W4,Fri,night] + 8*works[W4,Sat,morning] + 8*works[W4,Sat,evening] + 8*works[W4,Sat,night] + 8*works[W4,Sun,morning] + 8*works[W4,Sun,evening] + 8*works[W4,Sun,night] :  40.0 :   True\n",
      "         26 :  -Inf :                      8*works[W5,Mon,morning] + 8*works[W5,Mon,evening] + 8*works[W5,Mon,night] + 8*works[W5,Tue,morning] + 8*works[W5,Tue,evening] + 8*works[W5,Tue,night] + 8*works[W5,Wed,morning] + 8*works[W5,Wed,evening] + 8*works[W5,Wed,night] + 8*works[W5,Thu,morning] + 8*works[W5,Thu,evening] + 8*works[W5,Thu,night] + 8*works[W5,Fri,morning] + 8*works[W5,Fri,evening] + 8*works[W5,Fri,night] + 8*works[W5,Sat,morning] + 8*works[W5,Sat,evening] + 8*works[W5,Sat,night] + 8*works[W5,Sun,morning] + 8*works[W5,Sun,evening] + 8*works[W5,Sun,night] :  40.0 :   True\n",
      "         27 :  -Inf :                      8*works[W6,Mon,morning] + 8*works[W6,Mon,evening] + 8*works[W6,Mon,night] + 8*works[W6,Tue,morning] + 8*works[W6,Tue,evening] + 8*works[W6,Tue,night] + 8*works[W6,Wed,morning] + 8*works[W6,Wed,evening] + 8*works[W6,Wed,night] + 8*works[W6,Thu,morning] + 8*works[W6,Thu,evening] + 8*works[W6,Thu,night] + 8*works[W6,Fri,morning] + 8*works[W6,Fri,evening] + 8*works[W6,Fri,night] + 8*works[W6,Sat,morning] + 8*works[W6,Sat,evening] + 8*works[W6,Sat,night] + 8*works[W6,Sun,morning] + 8*works[W6,Sun,evening] + 8*works[W6,Sun,night] :  40.0 :   True\n",
      "         28 :  -Inf :                      8*works[W7,Mon,morning] + 8*works[W7,Mon,evening] + 8*works[W7,Mon,night] + 8*works[W7,Tue,morning] + 8*works[W7,Tue,evening] + 8*works[W7,Tue,night] + 8*works[W7,Wed,morning] + 8*works[W7,Wed,evening] + 8*works[W7,Wed,night] + 8*works[W7,Thu,morning] + 8*works[W7,Thu,evening] + 8*works[W7,Thu,night] + 8*works[W7,Fri,morning] + 8*works[W7,Fri,evening] + 8*works[W7,Fri,night] + 8*works[W7,Sat,morning] + 8*works[W7,Sat,evening] + 8*works[W7,Sat,night] + 8*works[W7,Sun,morning] + 8*works[W7,Sun,evening] + 8*works[W7,Sun,night] :  40.0 :   True\n",
      "         29 :  -Inf :                      8*works[W8,Mon,morning] + 8*works[W8,Mon,evening] + 8*works[W8,Mon,night] + 8*works[W8,Tue,morning] + 8*works[W8,Tue,evening] + 8*works[W8,Tue,night] + 8*works[W8,Wed,morning] + 8*works[W8,Wed,evening] + 8*works[W8,Wed,night] + 8*works[W8,Thu,morning] + 8*works[W8,Thu,evening] + 8*works[W8,Thu,night] + 8*works[W8,Fri,morning] + 8*works[W8,Fri,evening] + 8*works[W8,Fri,night] + 8*works[W8,Sat,morning] + 8*works[W8,Sat,evening] + 8*works[W8,Sat,night] + 8*works[W8,Sun,morning] + 8*works[W8,Sun,evening] + 8*works[W8,Sun,night] :  40.0 :   True\n",
      "         30 :  -Inf :                      8*works[W9,Mon,morning] + 8*works[W9,Mon,evening] + 8*works[W9,Mon,night] + 8*works[W9,Tue,morning] + 8*works[W9,Tue,evening] + 8*works[W9,Tue,night] + 8*works[W9,Wed,morning] + 8*works[W9,Wed,evening] + 8*works[W9,Wed,night] + 8*works[W9,Thu,morning] + 8*works[W9,Thu,evening] + 8*works[W9,Thu,night] + 8*works[W9,Fri,morning] + 8*works[W9,Fri,evening] + 8*works[W9,Fri,night] + 8*works[W9,Sat,morning] + 8*works[W9,Sat,evening] + 8*works[W9,Sat,night] + 8*works[W9,Sun,morning] + 8*works[W9,Sun,evening] + 8*works[W9,Sun,night] :  40.0 :   True\n",
      "         31 :  -Inf : 8*works[W10,Mon,morning] + 8*works[W10,Mon,evening] + 8*works[W10,Mon,night] + 8*works[W10,Tue,morning] + 8*works[W10,Tue,evening] + 8*works[W10,Tue,night] + 8*works[W10,Wed,morning] + 8*works[W10,Wed,evening] + 8*works[W10,Wed,night] + 8*works[W10,Thu,morning] + 8*works[W10,Thu,evening] + 8*works[W10,Thu,night] + 8*works[W10,Fri,morning] + 8*works[W10,Fri,evening] + 8*works[W10,Fri,night] + 8*works[W10,Sat,morning] + 8*works[W10,Sat,evening] + 8*works[W10,Sat,night] + 8*works[W10,Sun,morning] + 8*works[W10,Sun,evening] + 8*works[W10,Sun,night] :  40.0 :   True\n",
      "         32 :  -Inf :                                                                                                                                                                                                                                                                                                                                                                                                                                                                                                    works[W1,Mon,morning] + works[W1,Mon,evening] + works[W1,Mon,night] :   1.0 :   True\n",
      "         33 :  -Inf :                                                                                                                                                                                                                                                                                                                                                                                                                                                                                                    works[W1,Mon,evening] + works[W1,Mon,night] + works[W1,Tue,morning] :   1.0 :   True\n",
      "         34 :  -Inf :                                                                                                                                                                                                                                                                                                                                                                                                                                                                                                    works[W1,Tue,morning] + works[W1,Tue,evening] + works[W1,Mon,night] :   1.0 :   True\n",
      "         35 :  -Inf :                                                                                                                                                                                                                                                                                                                                                                                                                                                                                                    works[W1,Tue,morning] + works[W1,Tue,evening] + works[W1,Tue,night] :   1.0 :   True\n",
      "         36 :  -Inf :                                                                                                                                                                                                                                                                                                                                                                                                                                                                                                    works[W1,Tue,evening] + works[W1,Tue,night] + works[W1,Wed,morning] :   1.0 :   True\n",
      "         37 :  -Inf :                                                                                                                                                                                                                                                                                                                                                                                                                                                                                                    works[W1,Wed,morning] + works[W1,Wed,evening] + works[W1,Tue,night] :   1.0 :   True\n",
      "         38 :  -Inf :                                                                                                                                                                                                                                                                                                                                                                                                                                                                                                    works[W1,Wed,morning] + works[W1,Wed,evening] + works[W1,Wed,night] :   1.0 :   True\n",
      "         39 :  -Inf :                                                                                                                                                                                                                                                                                                                                                                                                                                                                                                    works[W1,Wed,evening] + works[W1,Wed,night] + works[W1,Thu,morning] :   1.0 :   True\n",
      "         40 :  -Inf :                                                                                                                                                                                                                                                                                                                                                                                                                                                                                                    works[W1,Thu,morning] + works[W1,Thu,evening] + works[W1,Wed,night] :   1.0 :   True\n",
      "         41 :  -Inf :                                                                                                                                                                                                                                                                                                                                                                                                                                                                                                    works[W1,Thu,morning] + works[W1,Thu,evening] + works[W1,Thu,night] :   1.0 :   True\n",
      "         42 :  -Inf :                                                                                                                                                                                                                                                                                                                                                                                                                                                                                                    works[W1,Thu,evening] + works[W1,Thu,night] + works[W1,Fri,morning] :   1.0 :   True\n",
      "         43 :  -Inf :                                                                                                                                                                                                                                                                                                                                                                                                                                                                                                    works[W1,Fri,morning] + works[W1,Fri,evening] + works[W1,Thu,night] :   1.0 :   True\n",
      "         44 :  -Inf :                                                                                                                                                                                                                                                                                                                                                                                                                                                                                                    works[W1,Fri,morning] + works[W1,Fri,evening] + works[W1,Fri,night] :   1.0 :   True\n",
      "         45 :  -Inf :                                                                                                                                                                                                                                                                                                                                                                                                                                                                                                    works[W1,Fri,evening] + works[W1,Fri,night] + works[W1,Sat,morning] :   1.0 :   True\n",
      "         46 :  -Inf :                                                                                                                                                                                                                                                                                                                                                                                                                                                                                                    works[W1,Sat,morning] + works[W1,Sat,evening] + works[W1,Fri,night] :   1.0 :   True\n",
      "         47 :  -Inf :                                                                                                                                                                                                                                                                                                                                                                                                                                                                                                    works[W1,Sat,morning] + works[W1,Sat,evening] + works[W1,Sat,night] :   1.0 :   True\n",
      "         48 :  -Inf :                                                                                                                                                                                                                                                                                                                                                                                                                                                                                                    works[W1,Sat,evening] + works[W1,Sat,night] + works[W1,Sun,morning] :   1.0 :   True\n",
      "         49 :  -Inf :                                                                                                                                                                                                                                                                                                                                                                                                                                                                                                    works[W1,Sun,morning] + works[W1,Sun,evening] + works[W1,Sat,night] :   1.0 :   True\n",
      "         50 :  -Inf :                                                                                                                                                                                                                                                                                                                                                                                                                                                                                                    works[W1,Sun,morning] + works[W1,Sun,evening] + works[W1,Sun,night] :   1.0 :   True\n",
      "         51 :  -Inf :                                                                                                                                                                                                                                                                                                                                                                                                                                                                                                    works[W1,Sun,evening] + works[W1,Sun,night] + works[W1,Mon,morning] :   1.0 :   True\n",
      "         52 :  -Inf :                                                                                                                                                                                                                                                                                                                                                                                                                                                                                                    works[W1,Mon,morning] + works[W1,Mon,evening] + works[W1,Sun,night] :   1.0 :   True\n",
      "         53 :  -Inf :                                                                                                                                                                                                                                                                                                                                                                                                                                                                                                    works[W2,Mon,morning] + works[W2,Mon,evening] + works[W2,Mon,night] :   1.0 :   True\n",
      "         54 :  -Inf :                                                                                                                                                                                                                                                                                                                                                                                                                                                                                                    works[W2,Mon,evening] + works[W2,Mon,night] + works[W2,Tue,morning] :   1.0 :   True\n",
      "         55 :  -Inf :                                                                                                                                                                                                                                                                                                                                                                                                                                                                                                    works[W2,Tue,morning] + works[W2,Tue,evening] + works[W2,Mon,night] :   1.0 :   True\n",
      "         56 :  -Inf :                                                                                                                                                                                                                                                                                                                                                                                                                                                                                                    works[W2,Tue,morning] + works[W2,Tue,evening] + works[W2,Tue,night] :   1.0 :   True\n",
      "         57 :  -Inf :                                                                                                                                                                                                                                                                                                                                                                                                                                                                                                    works[W2,Tue,evening] + works[W2,Tue,night] + works[W2,Wed,morning] :   1.0 :   True\n",
      "         58 :  -Inf :                                                                                                                                                                                                                                                                                                                                                                                                                                                                                                    works[W2,Wed,morning] + works[W2,Wed,evening] + works[W2,Tue,night] :   1.0 :   True\n",
      "         59 :  -Inf :                                                                                                                                                                                                                                                                                                                                                                                                                                                                                                    works[W2,Wed,morning] + works[W2,Wed,evening] + works[W2,Wed,night] :   1.0 :   True\n",
      "         60 :  -Inf :                                                                                                                                                                                                                                                                                                                                                                                                                                                                                                    works[W2,Wed,evening] + works[W2,Wed,night] + works[W2,Thu,morning] :   1.0 :   True\n",
      "         61 :  -Inf :                                                                                                                                                                                                                                                                                                                                                                                                                                                                                                    works[W2,Thu,morning] + works[W2,Thu,evening] + works[W2,Wed,night] :   1.0 :   True\n",
      "         62 :  -Inf :                                                                                                                                                                                                                                                                                                                                                                                                                                                                                                    works[W2,Thu,morning] + works[W2,Thu,evening] + works[W2,Thu,night] :   1.0 :   True\n",
      "         63 :  -Inf :                                                                                                                                                                                                                                                                                                                                                                                                                                                                                                    works[W2,Thu,evening] + works[W2,Thu,night] + works[W2,Fri,morning] :   1.0 :   True\n",
      "         64 :  -Inf :                                                                                                                                                                                                                                                                                                                                                                                                                                                                                                    works[W2,Fri,morning] + works[W2,Fri,evening] + works[W2,Thu,night] :   1.0 :   True\n",
      "         65 :  -Inf :                                                                                                                                                                                                                                                                                                                                                                                                                                                                                                    works[W2,Fri,morning] + works[W2,Fri,evening] + works[W2,Fri,night] :   1.0 :   True\n",
      "         66 :  -Inf :                                                                                                                                                                                                                                                                                                                                                                                                                                                                                                    works[W2,Fri,evening] + works[W2,Fri,night] + works[W2,Sat,morning] :   1.0 :   True\n",
      "         67 :  -Inf :                                                                                                                                                                                                                                                                                                                                                                                                                                                                                                    works[W2,Sat,morning] + works[W2,Sat,evening] + works[W2,Fri,night] :   1.0 :   True\n",
      "         68 :  -Inf :                                                                                                                                                                                                                                                                                                                                                                                                                                                                                                    works[W2,Sat,morning] + works[W2,Sat,evening] + works[W2,Sat,night] :   1.0 :   True\n",
      "         69 :  -Inf :                                                                                                                                                                                                                                                                                                                                                                                                                                                                                                    works[W2,Sat,evening] + works[W2,Sat,night] + works[W2,Sun,morning] :   1.0 :   True\n",
      "         70 :  -Inf :                                                                                                                                                                                                                                                                                                                                                                                                                                                                                                    works[W2,Sun,morning] + works[W2,Sun,evening] + works[W2,Sat,night] :   1.0 :   True\n",
      "         71 :  -Inf :                                                                                                                                                                                                                                                                                                                                                                                                                                                                                                    works[W2,Sun,morning] + works[W2,Sun,evening] + works[W2,Sun,night] :   1.0 :   True\n",
      "         72 :  -Inf :                                                                                                                                                                                                                                                                                                                                                                                                                                                                                                    works[W2,Sun,evening] + works[W2,Sun,night] + works[W2,Mon,morning] :   1.0 :   True\n",
      "         73 :  -Inf :                                                                                                                                                                                                                                                                                                                                                                                                                                                                                                    works[W2,Mon,morning] + works[W2,Mon,evening] + works[W2,Sun,night] :   1.0 :   True\n",
      "         74 :  -Inf :                                                                                                                                                                                                                                                                                                                                                                                                                                                                                                    works[W3,Mon,morning] + works[W3,Mon,evening] + works[W3,Mon,night] :   1.0 :   True\n",
      "         75 :  -Inf :                                                                                                                                                                                                                                                                                                                                                                                                                                                                                                    works[W3,Mon,evening] + works[W3,Mon,night] + works[W3,Tue,morning] :   1.0 :   True\n",
      "         76 :  -Inf :                                                                                                                                                                                                                                                                                                                                                                                                                                                                                                    works[W3,Tue,morning] + works[W3,Tue,evening] + works[W3,Mon,night] :   1.0 :   True\n",
      "         77 :  -Inf :                                                                                                                                                                                                                                                                                                                                                                                                                                                                                                    works[W3,Tue,morning] + works[W3,Tue,evening] + works[W3,Tue,night] :   1.0 :   True\n",
      "         78 :  -Inf :                                                                                                                                                                                                                                                                                                                                                                                                                                                                                                    works[W3,Tue,evening] + works[W3,Tue,night] + works[W3,Wed,morning] :   1.0 :   True\n",
      "         79 :  -Inf :                                                                                                                                                                                                                                                                                                                                                                                                                                                                                                    works[W3,Wed,morning] + works[W3,Wed,evening] + works[W3,Tue,night] :   1.0 :   True\n",
      "         80 :  -Inf :                                                                                                                                                                                                                                                                                                                                                                                                                                                                                                    works[W3,Wed,morning] + works[W3,Wed,evening] + works[W3,Wed,night] :   1.0 :   True\n",
      "         81 :  -Inf :                                                                                                                                                                                                                                                                                                                                                                                                                                                                                                    works[W3,Wed,evening] + works[W3,Wed,night] + works[W3,Thu,morning] :   1.0 :   True\n",
      "         82 :  -Inf :                                                                                                                                                                                                                                                                                                                                                                                                                                                                                                    works[W3,Thu,morning] + works[W3,Thu,evening] + works[W3,Wed,night] :   1.0 :   True\n",
      "         83 :  -Inf :                                                                                                                                                                                                                                                                                                                                                                                                                                                                                                    works[W3,Thu,morning] + works[W3,Thu,evening] + works[W3,Thu,night] :   1.0 :   True\n",
      "         84 :  -Inf :                                                                                                                                                                                                                                                                                                                                                                                                                                                                                                    works[W3,Thu,evening] + works[W3,Thu,night] + works[W3,Fri,morning] :   1.0 :   True\n",
      "         85 :  -Inf :                                                                                                                                                                                                                                                                                                                                                                                                                                                                                                    works[W3,Fri,morning] + works[W3,Fri,evening] + works[W3,Thu,night] :   1.0 :   True\n",
      "         86 :  -Inf :                                                                                                                                                                                                                                                                                                                                                                                                                                                                                                    works[W3,Fri,morning] + works[W3,Fri,evening] + works[W3,Fri,night] :   1.0 :   True\n",
      "         87 :  -Inf :                                                                                                                                                                                                                                                                                                                                                                                                                                                                                                    works[W3,Fri,evening] + works[W3,Fri,night] + works[W3,Sat,morning] :   1.0 :   True\n",
      "         88 :  -Inf :                                                                                                                                                                                                                                                                                                                                                                                                                                                                                                    works[W3,Sat,morning] + works[W3,Sat,evening] + works[W3,Fri,night] :   1.0 :   True\n",
      "         89 :  -Inf :                                                                                                                                                                                                                                                                                                                                                                                                                                                                                                    works[W3,Sat,morning] + works[W3,Sat,evening] + works[W3,Sat,night] :   1.0 :   True\n",
      "         90 :  -Inf :                                                                                                                                                                                                                                                                                                                                                                                                                                                                                                    works[W3,Sat,evening] + works[W3,Sat,night] + works[W3,Sun,morning] :   1.0 :   True\n",
      "         91 :  -Inf :                                                                                                                                                                                                                                                                                                                                                                                                                                                                                                    works[W3,Sun,morning] + works[W3,Sun,evening] + works[W3,Sat,night] :   1.0 :   True\n",
      "         92 :  -Inf :                                                                                                                                                                                                                                                                                                                                                                                                                                                                                                    works[W3,Sun,morning] + works[W3,Sun,evening] + works[W3,Sun,night] :   1.0 :   True\n",
      "         93 :  -Inf :                                                                                                                                                                                                                                                                                                                                                                                                                                                                                                    works[W3,Sun,evening] + works[W3,Sun,night] + works[W3,Mon,morning] :   1.0 :   True\n",
      "         94 :  -Inf :                                                                                                                                                                                                                                                                                                                                                                                                                                                                                                    works[W3,Mon,morning] + works[W3,Mon,evening] + works[W3,Sun,night] :   1.0 :   True\n",
      "         95 :  -Inf :                                                                                                                                                                                                                                                                                                                                                                                                                                                                                                    works[W4,Mon,morning] + works[W4,Mon,evening] + works[W4,Mon,night] :   1.0 :   True\n",
      "         96 :  -Inf :                                                                                                                                                                                                                                                                                                                                                                                                                                                                                                    works[W4,Mon,evening] + works[W4,Mon,night] + works[W4,Tue,morning] :   1.0 :   True\n",
      "         97 :  -Inf :                                                                                                                                                                                                                                                                                                                                                                                                                                                                                                    works[W4,Tue,morning] + works[W4,Tue,evening] + works[W4,Mon,night] :   1.0 :   True\n",
      "         98 :  -Inf :                                                                                                                                                                                                                                                                                                                                                                                                                                                                                                    works[W4,Tue,morning] + works[W4,Tue,evening] + works[W4,Tue,night] :   1.0 :   True\n",
      "         99 :  -Inf :                                                                                                                                                                                                                                                                                                                                                                                                                                                                                                    works[W4,Tue,evening] + works[W4,Tue,night] + works[W4,Wed,morning] :   1.0 :   True\n",
      "        100 :  -Inf :                                                                                                                                                                                                                                                                                                                                                                                                                                                                                                    works[W4,Wed,morning] + works[W4,Wed,evening] + works[W4,Tue,night] :   1.0 :   True\n",
      "        101 :  -Inf :                                                                                                                                                                                                                                                                                                                                                                                                                                                                                                    works[W4,Wed,morning] + works[W4,Wed,evening] + works[W4,Wed,night] :   1.0 :   True\n",
      "        102 :  -Inf :                                                                                                                                                                                                                                                                                                                                                                                                                                                                                                    works[W4,Wed,evening] + works[W4,Wed,night] + works[W4,Thu,morning] :   1.0 :   True\n",
      "        103 :  -Inf :                                                                                                                                                                                                                                                                                                                                                                                                                                                                                                    works[W4,Thu,morning] + works[W4,Thu,evening] + works[W4,Wed,night] :   1.0 :   True\n",
      "        104 :  -Inf :                                                                                                                                                                                                                                                                                                                                                                                                                                                                                                    works[W4,Thu,morning] + works[W4,Thu,evening] + works[W4,Thu,night] :   1.0 :   True\n",
      "        105 :  -Inf :                                                                                                                                                                                                                                                                                                                                                                                                                                                                                                    works[W4,Thu,evening] + works[W4,Thu,night] + works[W4,Fri,morning] :   1.0 :   True\n",
      "        106 :  -Inf :                                                                                                                                                                                                                                                                                                                                                                                                                                                                                                    works[W4,Fri,morning] + works[W4,Fri,evening] + works[W4,Thu,night] :   1.0 :   True\n",
      "        107 :  -Inf :                                                                                                                                                                                                                                                                                                                                                                                                                                                                                                    works[W4,Fri,morning] + works[W4,Fri,evening] + works[W4,Fri,night] :   1.0 :   True\n",
      "        108 :  -Inf :                                                                                                                                                                                                                                                                                                                                                                                                                                                                                                    works[W4,Fri,evening] + works[W4,Fri,night] + works[W4,Sat,morning] :   1.0 :   True\n",
      "        109 :  -Inf :                                                                                                                                                                                                                                                                                                                                                                                                                                                                                                    works[W4,Sat,morning] + works[W4,Sat,evening] + works[W4,Fri,night] :   1.0 :   True\n",
      "        110 :  -Inf :                                                                                                                                                                                                                                                                                                                                                                                                                                                                                                    works[W4,Sat,morning] + works[W4,Sat,evening] + works[W4,Sat,night] :   1.0 :   True\n",
      "        111 :  -Inf :                                                                                                                                                                                                                                                                                                                                                                                                                                                                                                    works[W4,Sat,evening] + works[W4,Sat,night] + works[W4,Sun,morning] :   1.0 :   True\n",
      "        112 :  -Inf :                                                                                                                                                                                                                                                                                                                                                                                                                                                                                                    works[W4,Sun,morning] + works[W4,Sun,evening] + works[W4,Sat,night] :   1.0 :   True\n",
      "        113 :  -Inf :                                                                                                                                                                                                                                                                                                                                                                                                                                                                                                    works[W4,Sun,morning] + works[W4,Sun,evening] + works[W4,Sun,night] :   1.0 :   True\n",
      "        114 :  -Inf :                                                                                                                                                                                                                                                                                                                                                                                                                                                                                                    works[W4,Sun,evening] + works[W4,Sun,night] + works[W4,Mon,morning] :   1.0 :   True\n",
      "        115 :  -Inf :                                                                                                                                                                                                                                                                                                                                                                                                                                                                                                    works[W4,Mon,morning] + works[W4,Mon,evening] + works[W4,Sun,night] :   1.0 :   True\n",
      "        116 :  -Inf :                                                                                                                                                                                                                                                                                                                                                                                                                                                                                                    works[W5,Mon,morning] + works[W5,Mon,evening] + works[W5,Mon,night] :   1.0 :   True\n",
      "        117 :  -Inf :                                                                                                                                                                                                                                                                                                                                                                                                                                                                                                    works[W5,Mon,evening] + works[W5,Mon,night] + works[W5,Tue,morning] :   1.0 :   True\n",
      "        118 :  -Inf :                                                                                                                                                                                                                                                                                                                                                                                                                                                                                                    works[W5,Tue,morning] + works[W5,Tue,evening] + works[W5,Mon,night] :   1.0 :   True\n",
      "        119 :  -Inf :                                                                                                                                                                                                                                                                                                                                                                                                                                                                                                    works[W5,Tue,morning] + works[W5,Tue,evening] + works[W5,Tue,night] :   1.0 :   True\n",
      "        120 :  -Inf :                                                                                                                                                                                                                                                                                                                                                                                                                                                                                                    works[W5,Tue,evening] + works[W5,Tue,night] + works[W5,Wed,morning] :   1.0 :   True\n",
      "        121 :  -Inf :                                                                                                                                                                                                                                                                                                                                                                                                                                                                                                    works[W5,Wed,morning] + works[W5,Wed,evening] + works[W5,Tue,night] :   1.0 :   True\n",
      "        122 :  -Inf :                                                                                                                                                                                                                                                                                                                                                                                                                                                                                                    works[W5,Wed,morning] + works[W5,Wed,evening] + works[W5,Wed,night] :   1.0 :   True\n",
      "        123 :  -Inf :                                                                                                                                                                                                                                                                                                                                                                                                                                                                                                    works[W5,Wed,evening] + works[W5,Wed,night] + works[W5,Thu,morning] :   1.0 :   True\n",
      "        124 :  -Inf :                                                                                                                                                                                                                                                                                                                                                                                                                                                                                                    works[W5,Thu,morning] + works[W5,Thu,evening] + works[W5,Wed,night] :   1.0 :   True\n",
      "        125 :  -Inf :                                                                                                                                                                                                                                                                                                                                                                                                                                                                                                    works[W5,Thu,morning] + works[W5,Thu,evening] + works[W5,Thu,night] :   1.0 :   True\n",
      "        126 :  -Inf :                                                                                                                                                                                                                                                                                                                                                                                                                                                                                                    works[W5,Thu,evening] + works[W5,Thu,night] + works[W5,Fri,morning] :   1.0 :   True\n",
      "        127 :  -Inf :                                                                                                                                                                                                                                                                                                                                                                                                                                                                                                    works[W5,Fri,morning] + works[W5,Fri,evening] + works[W5,Thu,night] :   1.0 :   True\n",
      "        128 :  -Inf :                                                                                                                                                                                                                                                                                                                                                                                                                                                                                                    works[W5,Fri,morning] + works[W5,Fri,evening] + works[W5,Fri,night] :   1.0 :   True\n",
      "        129 :  -Inf :                                                                                                                                                                                                                                                                                                                                                                                                                                                                                                    works[W5,Fri,evening] + works[W5,Fri,night] + works[W5,Sat,morning] :   1.0 :   True\n",
      "        130 :  -Inf :                                                                                                                                                                                                                                                                                                                                                                                                                                                                                                    works[W5,Sat,morning] + works[W5,Sat,evening] + works[W5,Fri,night] :   1.0 :   True\n",
      "        131 :  -Inf :                                                                                                                                                                                                                                                                                                                                                                                                                                                                                                    works[W5,Sat,morning] + works[W5,Sat,evening] + works[W5,Sat,night] :   1.0 :   True\n",
      "        132 :  -Inf :                                                                                                                                                                                                                                                                                                                                                                                                                                                                                                    works[W5,Sat,evening] + works[W5,Sat,night] + works[W5,Sun,morning] :   1.0 :   True\n",
      "        133 :  -Inf :                                                                                                                                                                                                                                                                                                                                                                                                                                                                                                    works[W5,Sun,morning] + works[W5,Sun,evening] + works[W5,Sat,night] :   1.0 :   True\n",
      "        134 :  -Inf :                                                                                                                                                                                                                                                                                                                                                                                                                                                                                                    works[W5,Sun,morning] + works[W5,Sun,evening] + works[W5,Sun,night] :   1.0 :   True\n",
      "        135 :  -Inf :                                                                                                                                                                                                                                                                                                                                                                                                                                                                                                    works[W5,Sun,evening] + works[W5,Sun,night] + works[W5,Mon,morning] :   1.0 :   True\n",
      "        136 :  -Inf :                                                                                                                                                                                                                                                                                                                                                                                                                                                                                                    works[W5,Mon,morning] + works[W5,Mon,evening] + works[W5,Sun,night] :   1.0 :   True\n",
      "        137 :  -Inf :                                                                                                                                                                                                                                                                                                                                                                                                                                                                                                    works[W6,Mon,morning] + works[W6,Mon,evening] + works[W6,Mon,night] :   1.0 :   True\n",
      "        138 :  -Inf :                                                                                                                                                                                                                                                                                                                                                                                                                                                                                                    works[W6,Mon,evening] + works[W6,Mon,night] + works[W6,Tue,morning] :   1.0 :   True\n",
      "        139 :  -Inf :                                                                                                                                                                                                                                                                                                                                                                                                                                                                                                    works[W6,Tue,morning] + works[W6,Tue,evening] + works[W6,Mon,night] :   1.0 :   True\n",
      "        140 :  -Inf :                                                                                                                                                                                                                                                                                                                                                                                                                                                                                                    works[W6,Tue,morning] + works[W6,Tue,evening] + works[W6,Tue,night] :   1.0 :   True\n",
      "        141 :  -Inf :                                                                                                                                                                                                                                                                                                                                                                                                                                                                                                    works[W6,Tue,evening] + works[W6,Tue,night] + works[W6,Wed,morning] :   1.0 :   True\n",
      "        142 :  -Inf :                                                                                                                                                                                                                                                                                                                                                                                                                                                                                                    works[W6,Wed,morning] + works[W6,Wed,evening] + works[W6,Tue,night] :   1.0 :   True\n",
      "        143 :  -Inf :                                                                                                                                                                                                                                                                                                                                                                                                                                                                                                    works[W6,Wed,morning] + works[W6,Wed,evening] + works[W6,Wed,night] :   1.0 :   True\n",
      "        144 :  -Inf :                                                                                                                                                                                                                                                                                                                                                                                                                                                                                                    works[W6,Wed,evening] + works[W6,Wed,night] + works[W6,Thu,morning] :   1.0 :   True\n",
      "        145 :  -Inf :                                                                                                                                                                                                                                                                                                                                                                                                                                                                                                    works[W6,Thu,morning] + works[W6,Thu,evening] + works[W6,Wed,night] :   1.0 :   True\n",
      "        146 :  -Inf :                                                                                                                                                                                                                                                                                                                                                                                                                                                                                                    works[W6,Thu,morning] + works[W6,Thu,evening] + works[W6,Thu,night] :   1.0 :   True\n",
      "        147 :  -Inf :                                                                                                                                                                                                                                                                                                                                                                                                                                                                                                    works[W6,Thu,evening] + works[W6,Thu,night] + works[W6,Fri,morning] :   1.0 :   True\n",
      "        148 :  -Inf :                                                                                                                                                                                                                                                                                                                                                                                                                                                                                                    works[W6,Fri,morning] + works[W6,Fri,evening] + works[W6,Thu,night] :   1.0 :   True\n",
      "        149 :  -Inf :                                                                                                                                                                                                                                                                                                                                                                                                                                                                                                    works[W6,Fri,morning] + works[W6,Fri,evening] + works[W6,Fri,night] :   1.0 :   True\n",
      "        150 :  -Inf :                                                                                                                                                                                                                                                                                                                                                                                                                                                                                                    works[W6,Fri,evening] + works[W6,Fri,night] + works[W6,Sat,morning] :   1.0 :   True\n",
      "        151 :  -Inf :                                                                                                                                                                                                                                                                                                                                                                                                                                                                                                    works[W6,Sat,morning] + works[W6,Sat,evening] + works[W6,Fri,night] :   1.0 :   True\n",
      "        152 :  -Inf :                                                                                                                                                                                                                                                                                                                                                                                                                                                                                                    works[W6,Sat,morning] + works[W6,Sat,evening] + works[W6,Sat,night] :   1.0 :   True\n",
      "        153 :  -Inf :                                                                                                                                                                                                                                                                                                                                                                                                                                                                                                    works[W6,Sat,evening] + works[W6,Sat,night] + works[W6,Sun,morning] :   1.0 :   True\n",
      "        154 :  -Inf :                                                                                                                                                                                                                                                                                                                                                                                                                                                                                                    works[W6,Sun,morning] + works[W6,Sun,evening] + works[W6,Sat,night] :   1.0 :   True\n",
      "        155 :  -Inf :                                                                                                                                                                                                                                                                                                                                                                                                                                                                                                    works[W6,Sun,morning] + works[W6,Sun,evening] + works[W6,Sun,night] :   1.0 :   True\n",
      "        156 :  -Inf :                                                                                                                                                                                                                                                                                                                                                                                                                                                                                                    works[W6,Sun,evening] + works[W6,Sun,night] + works[W6,Mon,morning] :   1.0 :   True\n",
      "        157 :  -Inf :                                                                                                                                                                                                                                                                                                                                                                                                                                                                                                    works[W6,Mon,morning] + works[W6,Mon,evening] + works[W6,Sun,night] :   1.0 :   True\n",
      "        158 :  -Inf :                                                                                                                                                                                                                                                                                                                                                                                                                                                                                                    works[W7,Mon,morning] + works[W7,Mon,evening] + works[W7,Mon,night] :   1.0 :   True\n",
      "        159 :  -Inf :                                                                                                                                                                                                                                                                                                                                                                                                                                                                                                    works[W7,Mon,evening] + works[W7,Mon,night] + works[W7,Tue,morning] :   1.0 :   True\n",
      "        160 :  -Inf :                                                                                                                                                                                                                                                                                                                                                                                                                                                                                                    works[W7,Tue,morning] + works[W7,Tue,evening] + works[W7,Mon,night] :   1.0 :   True\n",
      "        161 :  -Inf :                                                                                                                                                                                                                                                                                                                                                                                                                                                                                                    works[W7,Tue,morning] + works[W7,Tue,evening] + works[W7,Tue,night] :   1.0 :   True\n",
      "        162 :  -Inf :                                                                                                                                                                                                                                                                                                                                                                                                                                                                                                    works[W7,Tue,evening] + works[W7,Tue,night] + works[W7,Wed,morning] :   1.0 :   True\n",
      "        163 :  -Inf :                                                                                                                                                                                                                                                                                                                                                                                                                                                                                                    works[W7,Wed,morning] + works[W7,Wed,evening] + works[W7,Tue,night] :   1.0 :   True\n",
      "        164 :  -Inf :                                                                                                                                                                                                                                                                                                                                                                                                                                                                                                    works[W7,Wed,morning] + works[W7,Wed,evening] + works[W7,Wed,night] :   1.0 :   True\n",
      "        165 :  -Inf :                                                                                                                                                                                                                                                                                                                                                                                                                                                                                                    works[W7,Wed,evening] + works[W7,Wed,night] + works[W7,Thu,morning] :   1.0 :   True\n",
      "        166 :  -Inf :                                                                                                                                                                                                                                                                                                                                                                                                                                                                                                    works[W7,Thu,morning] + works[W7,Thu,evening] + works[W7,Wed,night] :   1.0 :   True\n",
      "        167 :  -Inf :                                                                                                                                                                                                                                                                                                                                                                                                                                                                                                    works[W7,Thu,morning] + works[W7,Thu,evening] + works[W7,Thu,night] :   1.0 :   True\n",
      "        168 :  -Inf :                                                                                                                                                                                                                                                                                                                                                                                                                                                                                                    works[W7,Thu,evening] + works[W7,Thu,night] + works[W7,Fri,morning] :   1.0 :   True\n",
      "        169 :  -Inf :                                                                                                                                                                                                                                                                                                                                                                                                                                                                                                    works[W7,Fri,morning] + works[W7,Fri,evening] + works[W7,Thu,night] :   1.0 :   True\n",
      "        170 :  -Inf :                                                                                                                                                                                                                                                                                                                                                                                                                                                                                                    works[W7,Fri,morning] + works[W7,Fri,evening] + works[W7,Fri,night] :   1.0 :   True\n",
      "        171 :  -Inf :                                                                                                                                                                                                                                                                                                                                                                                                                                                                                                    works[W7,Fri,evening] + works[W7,Fri,night] + works[W7,Sat,morning] :   1.0 :   True\n",
      "        172 :  -Inf :                                                                                                                                                                                                                                                                                                                                                                                                                                                                                                    works[W7,Sat,morning] + works[W7,Sat,evening] + works[W7,Fri,night] :   1.0 :   True\n",
      "        173 :  -Inf :                                                                                                                                                                                                                                                                                                                                                                                                                                                                                                    works[W7,Sat,morning] + works[W7,Sat,evening] + works[W7,Sat,night] :   1.0 :   True\n",
      "        174 :  -Inf :                                                                                                                                                                                                                                                                                                                                                                                                                                                                                                    works[W7,Sat,evening] + works[W7,Sat,night] + works[W7,Sun,morning] :   1.0 :   True\n",
      "        175 :  -Inf :                                                                                                                                                                                                                                                                                                                                                                                                                                                                                                    works[W7,Sun,morning] + works[W7,Sun,evening] + works[W7,Sat,night] :   1.0 :   True\n",
      "        176 :  -Inf :                                                                                                                                                                                                                                                                                                                                                                                                                                                                                                    works[W7,Sun,morning] + works[W7,Sun,evening] + works[W7,Sun,night] :   1.0 :   True\n",
      "        177 :  -Inf :                                                                                                                                                                                                                                                                                                                                                                                                                                                                                                    works[W7,Sun,evening] + works[W7,Sun,night] + works[W7,Mon,morning] :   1.0 :   True\n",
      "        178 :  -Inf :                                                                                                                                                                                                                                                                                                                                                                                                                                                                                                    works[W7,Mon,morning] + works[W7,Mon,evening] + works[W7,Sun,night] :   1.0 :   True\n",
      "        179 :  -Inf :                                                                                                                                                                                                                                                                                                                                                                                                                                                                                                    works[W8,Mon,morning] + works[W8,Mon,evening] + works[W8,Mon,night] :   1.0 :   True\n",
      "        180 :  -Inf :                                                                                                                                                                                                                                                                                                                                                                                                                                                                                                    works[W8,Mon,evening] + works[W8,Mon,night] + works[W8,Tue,morning] :   1.0 :   True\n",
      "        181 :  -Inf :                                                                                                                                                                                                                                                                                                                                                                                                                                                                                                    works[W8,Tue,morning] + works[W8,Tue,evening] + works[W8,Mon,night] :   1.0 :   True\n",
      "        182 :  -Inf :                                                                                                                                                                                                                                                                                                                                                                                                                                                                                                    works[W8,Tue,morning] + works[W8,Tue,evening] + works[W8,Tue,night] :   1.0 :   True\n",
      "        183 :  -Inf :                                                                                                                                                                                                                                                                                                                                                                                                                                                                                                    works[W8,Tue,evening] + works[W8,Tue,night] + works[W8,Wed,morning] :   1.0 :   True\n",
      "        184 :  -Inf :                                                                                                                                                                                                                                                                                                                                                                                                                                                                                                    works[W8,Wed,morning] + works[W8,Wed,evening] + works[W8,Tue,night] :   1.0 :   True\n",
      "        185 :  -Inf :                                                                                                                                                                                                                                                                                                                                                                                                                                                                                                    works[W8,Wed,morning] + works[W8,Wed,evening] + works[W8,Wed,night] :   1.0 :   True\n",
      "        186 :  -Inf :                                                                                                                                                                                                                                                                                                                                                                                                                                                                                                    works[W8,Wed,evening] + works[W8,Wed,night] + works[W8,Thu,morning] :   1.0 :   True\n",
      "        187 :  -Inf :                                                                                                                                                                                                                                                                                                                                                                                                                                                                                                    works[W8,Thu,morning] + works[W8,Thu,evening] + works[W8,Wed,night] :   1.0 :   True\n",
      "        188 :  -Inf :                                                                                                                                                                                                                                                                                                                                                                                                                                                                                                    works[W8,Thu,morning] + works[W8,Thu,evening] + works[W8,Thu,night] :   1.0 :   True\n",
      "        189 :  -Inf :                                                                                                                                                                                                                                                                                                                                                                                                                                                                                                    works[W8,Thu,evening] + works[W8,Thu,night] + works[W8,Fri,morning] :   1.0 :   True\n",
      "        190 :  -Inf :                                                                                                                                                                                                                                                                                                                                                                                                                                                                                                    works[W8,Fri,morning] + works[W8,Fri,evening] + works[W8,Thu,night] :   1.0 :   True\n",
      "        191 :  -Inf :                                                                                                                                                                                                                                                                                                                                                                                                                                                                                                    works[W8,Fri,morning] + works[W8,Fri,evening] + works[W8,Fri,night] :   1.0 :   True\n",
      "        192 :  -Inf :                                                                                                                                                                                                                                                                                                                                                                                                                                                                                                    works[W8,Fri,evening] + works[W8,Fri,night] + works[W8,Sat,morning] :   1.0 :   True\n",
      "        193 :  -Inf :                                                                                                                                                                                                                                                                                                                                                                                                                                                                                                    works[W8,Sat,morning] + works[W8,Sat,evening] + works[W8,Fri,night] :   1.0 :   True\n",
      "        194 :  -Inf :                                                                                                                                                                                                                                                                                                                                                                                                                                                                                                    works[W8,Sat,morning] + works[W8,Sat,evening] + works[W8,Sat,night] :   1.0 :   True\n",
      "        195 :  -Inf :                                                                                                                                                                                                                                                                                                                                                                                                                                                                                                    works[W8,Sat,evening] + works[W8,Sat,night] + works[W8,Sun,morning] :   1.0 :   True\n",
      "        196 :  -Inf :                                                                                                                                                                                                                                                                                                                                                                                                                                                                                                    works[W8,Sun,morning] + works[W8,Sun,evening] + works[W8,Sat,night] :   1.0 :   True\n",
      "        197 :  -Inf :                                                                                                                                                                                                                                                                                                                                                                                                                                                                                                    works[W8,Sun,morning] + works[W8,Sun,evening] + works[W8,Sun,night] :   1.0 :   True\n",
      "        198 :  -Inf :                                                                                                                                                                                                                                                                                                                                                                                                                                                                                                    works[W8,Sun,evening] + works[W8,Sun,night] + works[W8,Mon,morning] :   1.0 :   True\n",
      "        199 :  -Inf :                                                                                                                                                                                                                                                                                                                                                                                                                                                                                                    works[W8,Mon,morning] + works[W8,Mon,evening] + works[W8,Sun,night] :   1.0 :   True\n",
      "        200 :  -Inf :                                                                                                                                                                                                                                                                                                                                                                                                                                                                                                    works[W9,Mon,morning] + works[W9,Mon,evening] + works[W9,Mon,night] :   1.0 :   True\n",
      "        201 :  -Inf :                                                                                                                                                                                                                                                                                                                                                                                                                                                                                                    works[W9,Mon,evening] + works[W9,Mon,night] + works[W9,Tue,morning] :   1.0 :   True\n",
      "        202 :  -Inf :                                                                                                                                                                                                                                                                                                                                                                                                                                                                                                    works[W9,Tue,morning] + works[W9,Tue,evening] + works[W9,Mon,night] :   1.0 :   True\n",
      "        203 :  -Inf :                                                                                                                                                                                                                                                                                                                                                                                                                                                                                                    works[W9,Tue,morning] + works[W9,Tue,evening] + works[W9,Tue,night] :   1.0 :   True\n",
      "        204 :  -Inf :                                                                                                                                                                                                                                                                                                                                                                                                                                                                                                    works[W9,Tue,evening] + works[W9,Tue,night] + works[W9,Wed,morning] :   1.0 :   True\n",
      "        205 :  -Inf :                                                                                                                                                                                                                                                                                                                                                                                                                                                                                                    works[W9,Wed,morning] + works[W9,Wed,evening] + works[W9,Tue,night] :   1.0 :   True\n",
      "        206 :  -Inf :                                                                                                                                                                                                                                                                                                                                                                                                                                                                                                    works[W9,Wed,morning] + works[W9,Wed,evening] + works[W9,Wed,night] :   1.0 :   True\n",
      "        207 :  -Inf :                                                                                                                                                                                                                                                                                                                                                                                                                                                                                                    works[W9,Wed,evening] + works[W9,Wed,night] + works[W9,Thu,morning] :   1.0 :   True\n",
      "        208 :  -Inf :                                                                                                                                                                                                                                                                                                                                                                                                                                                                                                    works[W9,Thu,morning] + works[W9,Thu,evening] + works[W9,Wed,night] :   1.0 :   True\n",
      "        209 :  -Inf :                                                                                                                                                                                                                                                                                                                                                                                                                                                                                                    works[W9,Thu,morning] + works[W9,Thu,evening] + works[W9,Thu,night] :   1.0 :   True\n",
      "        210 :  -Inf :                                                                                                                                                                                                                                                                                                                                                                                                                                                                                                    works[W9,Thu,evening] + works[W9,Thu,night] + works[W9,Fri,morning] :   1.0 :   True\n",
      "        211 :  -Inf :                                                                                                                                                                                                                                                                                                                                                                                                                                                                                                    works[W9,Fri,morning] + works[W9,Fri,evening] + works[W9,Thu,night] :   1.0 :   True\n",
      "        212 :  -Inf :                                                                                                                                                                                                                                                                                                                                                                                                                                                                                                    works[W9,Fri,morning] + works[W9,Fri,evening] + works[W9,Fri,night] :   1.0 :   True\n",
      "        213 :  -Inf :                                                                                                                                                                                                                                                                                                                                                                                                                                                                                                    works[W9,Fri,evening] + works[W9,Fri,night] + works[W9,Sat,morning] :   1.0 :   True\n",
      "        214 :  -Inf :                                                                                                                                                                                                                                                                                                                                                                                                                                                                                                    works[W9,Sat,morning] + works[W9,Sat,evening] + works[W9,Fri,night] :   1.0 :   True\n",
      "        215 :  -Inf :                                                                                                                                                                                                                                                                                                                                                                                                                                                                                                    works[W9,Sat,morning] + works[W9,Sat,evening] + works[W9,Sat,night] :   1.0 :   True\n",
      "        216 :  -Inf :                                                                                                                                                                                                                                                                                                                                                                                                                                                                                                    works[W9,Sat,evening] + works[W9,Sat,night] + works[W9,Sun,morning] :   1.0 :   True\n",
      "        217 :  -Inf :                                                                                                                                                                                                                                                                                                                                                                                                                                                                                                    works[W9,Sun,morning] + works[W9,Sun,evening] + works[W9,Sat,night] :   1.0 :   True\n",
      "        218 :  -Inf :                                                                                                                                                                                                                                                                                                                                                                                                                                                                                                    works[W9,Sun,morning] + works[W9,Sun,evening] + works[W9,Sun,night] :   1.0 :   True\n",
      "        219 :  -Inf :                                                                                                                                                                                                                                                                                                                                                                                                                                                                                                    works[W9,Sun,evening] + works[W9,Sun,night] + works[W9,Mon,morning] :   1.0 :   True\n",
      "        220 :  -Inf :                                                                                                                                                                                                                                                                                                                                                                                                                                                                                                    works[W9,Mon,morning] + works[W9,Mon,evening] + works[W9,Sun,night] :   1.0 :   True\n",
      "        221 :  -Inf :                                                                                                                                                                                                                                                                                                                                                                                                                                                                                                 works[W10,Mon,morning] + works[W10,Mon,evening] + works[W10,Mon,night] :   1.0 :   True\n",
      "        222 :  -Inf :                                                                                                                                                                                                                                                                                                                                                                                                                                                                                                 works[W10,Mon,evening] + works[W10,Mon,night] + works[W10,Tue,morning] :   1.0 :   True\n",
      "        223 :  -Inf :                                                                                                                                                                                                                                                                                                                                                                                                                                                                                                 works[W10,Tue,morning] + works[W10,Tue,evening] + works[W10,Mon,night] :   1.0 :   True\n",
      "        224 :  -Inf :                                                                                                                                                                                                                                                                                                                                                                                                                                                                                                 works[W10,Tue,morning] + works[W10,Tue,evening] + works[W10,Tue,night] :   1.0 :   True\n",
      "        225 :  -Inf :                                                                                                                                                                                                                                                                                                                                                                                                                                                                                                 works[W10,Tue,evening] + works[W10,Tue,night] + works[W10,Wed,morning] :   1.0 :   True\n",
      "        226 :  -Inf :                                                                                                                                                                                                                                                                                                                                                                                                                                                                                                 works[W10,Wed,morning] + works[W10,Wed,evening] + works[W10,Tue,night] :   1.0 :   True\n",
      "        227 :  -Inf :                                                                                                                                                                                                                                                                                                                                                                                                                                                                                                 works[W10,Wed,morning] + works[W10,Wed,evening] + works[W10,Wed,night] :   1.0 :   True\n",
      "        228 :  -Inf :                                                                                                                                                                                                                                                                                                                                                                                                                                                                                                 works[W10,Wed,evening] + works[W10,Wed,night] + works[W10,Thu,morning] :   1.0 :   True\n",
      "        229 :  -Inf :                                                                                                                                                                                                                                                                                                                                                                                                                                                                                                 works[W10,Thu,morning] + works[W10,Thu,evening] + works[W10,Wed,night] :   1.0 :   True\n",
      "        230 :  -Inf :                                                                                                                                                                                                                                                                                                                                                                                                                                                                                                 works[W10,Thu,morning] + works[W10,Thu,evening] + works[W10,Thu,night] :   1.0 :   True\n",
      "        231 :  -Inf :                                                                                                                                                                                                                                                                                                                                                                                                                                                                                                 works[W10,Thu,evening] + works[W10,Thu,night] + works[W10,Fri,morning] :   1.0 :   True\n",
      "        232 :  -Inf :                                                                                                                                                                                                                                                                                                                                                                                                                                                                                                 works[W10,Fri,morning] + works[W10,Fri,evening] + works[W10,Thu,night] :   1.0 :   True\n",
      "        233 :  -Inf :                                                                                                                                                                                                                                                                                                                                                                                                                                                                                                 works[W10,Fri,morning] + works[W10,Fri,evening] + works[W10,Fri,night] :   1.0 :   True\n",
      "        234 :  -Inf :                                                                                                                                                                                                                                                                                                                                                                                                                                                                                                 works[W10,Fri,evening] + works[W10,Fri,night] + works[W10,Sat,morning] :   1.0 :   True\n",
      "        235 :  -Inf :                                                                                                                                                                                                                                                                                                                                                                                                                                                                                                 works[W10,Sat,morning] + works[W10,Sat,evening] + works[W10,Fri,night] :   1.0 :   True\n",
      "        236 :  -Inf :                                                                                                                                                                                                                                                                                                                                                                                                                                                                                                 works[W10,Sat,morning] + works[W10,Sat,evening] + works[W10,Sat,night] :   1.0 :   True\n",
      "        237 :  -Inf :                                                                                                                                                                                                                                                                                                                                                                                                                                                                                                 works[W10,Sat,evening] + works[W10,Sat,night] + works[W10,Sun,morning] :   1.0 :   True\n",
      "        238 :  -Inf :                                                                                                                                                                                                                                                                                                                                                                                                                                                                                                 works[W10,Sun,morning] + works[W10,Sun,evening] + works[W10,Sat,night] :   1.0 :   True\n",
      "        239 :  -Inf :                                                                                                                                                                                                                                                                                                                                                                                                                                                                                                 works[W10,Sun,morning] + works[W10,Sun,evening] + works[W10,Sun,night] :   1.0 :   True\n",
      "        240 :  -Inf :                                                                                                                                                                                                                                                                                                                                                                                                                                                                                                 works[W10,Sun,evening] + works[W10,Sun,night] + works[W10,Mon,morning] :   1.0 :   True\n",
      "        241 :  -Inf :                                                                                                                                                                                                                                                                                                                                                                                                                                                                                                 works[W10,Mon,morning] + works[W10,Mon,evening] + works[W10,Sun,night] :   1.0 :   True\n",
      "        242 :  -Inf :                                             works[W1,Mon,morning] + works[W1,Mon,evening] + works[W1,Mon,night] + works[W1,Tue,morning] + works[W1,Tue,evening] + works[W1,Tue,night] + works[W1,Wed,morning] + works[W1,Wed,evening] + works[W1,Wed,night] + works[W1,Thu,morning] + works[W1,Thu,evening] + works[W1,Thu,night] + works[W1,Fri,morning] + works[W1,Fri,evening] + works[W1,Fri,night] + works[W1,Sat,morning] + works[W1,Sat,evening] + works[W1,Sat,night] + works[W1,Sun,morning] + works[W1,Sun,evening] + works[W1,Sun,night] - 10000*needed[W1] :   0.0 :   True\n",
      "        243 :  -Inf :                                             works[W2,Mon,morning] + works[W2,Mon,evening] + works[W2,Mon,night] + works[W2,Tue,morning] + works[W2,Tue,evening] + works[W2,Tue,night] + works[W2,Wed,morning] + works[W2,Wed,evening] + works[W2,Wed,night] + works[W2,Thu,morning] + works[W2,Thu,evening] + works[W2,Thu,night] + works[W2,Fri,morning] + works[W2,Fri,evening] + works[W2,Fri,night] + works[W2,Sat,morning] + works[W2,Sat,evening] + works[W2,Sat,night] + works[W2,Sun,morning] + works[W2,Sun,evening] + works[W2,Sun,night] - 10000*needed[W2] :   0.0 :   True\n",
      "        244 :  -Inf :                                             works[W3,Mon,morning] + works[W3,Mon,evening] + works[W3,Mon,night] + works[W3,Tue,morning] + works[W3,Tue,evening] + works[W3,Tue,night] + works[W3,Wed,morning] + works[W3,Wed,evening] + works[W3,Wed,night] + works[W3,Thu,morning] + works[W3,Thu,evening] + works[W3,Thu,night] + works[W3,Fri,morning] + works[W3,Fri,evening] + works[W3,Fri,night] + works[W3,Sat,morning] + works[W3,Sat,evening] + works[W3,Sat,night] + works[W3,Sun,morning] + works[W3,Sun,evening] + works[W3,Sun,night] - 10000*needed[W3] :   0.0 :   True\n",
      "        245 :  -Inf :                                             works[W4,Mon,morning] + works[W4,Mon,evening] + works[W4,Mon,night] + works[W4,Tue,morning] + works[W4,Tue,evening] + works[W4,Tue,night] + works[W4,Wed,morning] + works[W4,Wed,evening] + works[W4,Wed,night] + works[W4,Thu,morning] + works[W4,Thu,evening] + works[W4,Thu,night] + works[W4,Fri,morning] + works[W4,Fri,evening] + works[W4,Fri,night] + works[W4,Sat,morning] + works[W4,Sat,evening] + works[W4,Sat,night] + works[W4,Sun,morning] + works[W4,Sun,evening] + works[W4,Sun,night] - 10000*needed[W4] :   0.0 :   True\n",
      "        246 :  -Inf :                                             works[W5,Mon,morning] + works[W5,Mon,evening] + works[W5,Mon,night] + works[W5,Tue,morning] + works[W5,Tue,evening] + works[W5,Tue,night] + works[W5,Wed,morning] + works[W5,Wed,evening] + works[W5,Wed,night] + works[W5,Thu,morning] + works[W5,Thu,evening] + works[W5,Thu,night] + works[W5,Fri,morning] + works[W5,Fri,evening] + works[W5,Fri,night] + works[W5,Sat,morning] + works[W5,Sat,evening] + works[W5,Sat,night] + works[W5,Sun,morning] + works[W5,Sun,evening] + works[W5,Sun,night] - 10000*needed[W5] :   0.0 :   True\n",
      "        247 :  -Inf :                                             works[W6,Mon,morning] + works[W6,Mon,evening] + works[W6,Mon,night] + works[W6,Tue,morning] + works[W6,Tue,evening] + works[W6,Tue,night] + works[W6,Wed,morning] + works[W6,Wed,evening] + works[W6,Wed,night] + works[W6,Thu,morning] + works[W6,Thu,evening] + works[W6,Thu,night] + works[W6,Fri,morning] + works[W6,Fri,evening] + works[W6,Fri,night] + works[W6,Sat,morning] + works[W6,Sat,evening] + works[W6,Sat,night] + works[W6,Sun,morning] + works[W6,Sun,evening] + works[W6,Sun,night] - 10000*needed[W6] :   0.0 :   True\n",
      "        248 :  -Inf :                                             works[W7,Mon,morning] + works[W7,Mon,evening] + works[W7,Mon,night] + works[W7,Tue,morning] + works[W7,Tue,evening] + works[W7,Tue,night] + works[W7,Wed,morning] + works[W7,Wed,evening] + works[W7,Wed,night] + works[W7,Thu,morning] + works[W7,Thu,evening] + works[W7,Thu,night] + works[W7,Fri,morning] + works[W7,Fri,evening] + works[W7,Fri,night] + works[W7,Sat,morning] + works[W7,Sat,evening] + works[W7,Sat,night] + works[W7,Sun,morning] + works[W7,Sun,evening] + works[W7,Sun,night] - 10000*needed[W7] :   0.0 :   True\n",
      "        249 :  -Inf :                                             works[W8,Mon,morning] + works[W8,Mon,evening] + works[W8,Mon,night] + works[W8,Tue,morning] + works[W8,Tue,evening] + works[W8,Tue,night] + works[W8,Wed,morning] + works[W8,Wed,evening] + works[W8,Wed,night] + works[W8,Thu,morning] + works[W8,Thu,evening] + works[W8,Thu,night] + works[W8,Fri,morning] + works[W8,Fri,evening] + works[W8,Fri,night] + works[W8,Sat,morning] + works[W8,Sat,evening] + works[W8,Sat,night] + works[W8,Sun,morning] + works[W8,Sun,evening] + works[W8,Sun,night] - 10000*needed[W8] :   0.0 :   True\n",
      "        250 :  -Inf :                                             works[W9,Mon,morning] + works[W9,Mon,evening] + works[W9,Mon,night] + works[W9,Tue,morning] + works[W9,Tue,evening] + works[W9,Tue,night] + works[W9,Wed,morning] + works[W9,Wed,evening] + works[W9,Wed,night] + works[W9,Thu,morning] + works[W9,Thu,evening] + works[W9,Thu,night] + works[W9,Fri,morning] + works[W9,Fri,evening] + works[W9,Fri,night] + works[W9,Sat,morning] + works[W9,Sat,evening] + works[W9,Sat,night] + works[W9,Sun,morning] + works[W9,Sun,evening] + works[W9,Sun,night] - 10000*needed[W9] :   0.0 :   True\n",
      "        251 :  -Inf :                       works[W10,Mon,morning] + works[W10,Mon,evening] + works[W10,Mon,night] + works[W10,Tue,morning] + works[W10,Tue,evening] + works[W10,Tue,night] + works[W10,Wed,morning] + works[W10,Wed,evening] + works[W10,Wed,night] + works[W10,Thu,morning] + works[W10,Thu,evening] + works[W10,Thu,night] + works[W10,Fri,morning] + works[W10,Fri,evening] + works[W10,Fri,night] + works[W10,Sat,morning] + works[W10,Sat,evening] + works[W10,Sat,night] + works[W10,Sun,morning] + works[W10,Sun,evening] + works[W10,Sun,night] - 10000*needed[W10] :   0.0 :   True\n",
      "        252 :  -Inf :                                                                                                                                                                                                                                                                                                                                                                                                              works[W1,Sat,morning] + works[W1,Sat,evening] + works[W1,Sat,night] - (works[W1,Sun,morning] + works[W1,Sun,evening] + works[W1,Sun,night]) - no_pref[W1] :   0.0 :   True\n",
      "        253 :  -Inf :                                                                                                                                                                                                                                                                                                                                                                                                              works[W2,Sat,morning] + works[W2,Sat,evening] + works[W2,Sat,night] - (works[W2,Sun,morning] + works[W2,Sun,evening] + works[W2,Sun,night]) - no_pref[W2] :   0.0 :   True\n",
      "        254 :  -Inf :                                                                                                                                                                                                                                                                                                                                                                                                              works[W3,Sat,morning] + works[W3,Sat,evening] + works[W3,Sat,night] - (works[W3,Sun,morning] + works[W3,Sun,evening] + works[W3,Sun,night]) - no_pref[W3] :   0.0 :   True\n",
      "        255 :  -Inf :                                                                                                                                                                                                                                                                                                                                                                                                              works[W4,Sat,morning] + works[W4,Sat,evening] + works[W4,Sat,night] - (works[W4,Sun,morning] + works[W4,Sun,evening] + works[W4,Sun,night]) - no_pref[W4] :   0.0 :   True\n",
      "        256 :  -Inf :                                                                                                                                                                                                                                                                                                                                                                                                              works[W5,Sat,morning] + works[W5,Sat,evening] + works[W5,Sat,night] - (works[W5,Sun,morning] + works[W5,Sun,evening] + works[W5,Sun,night]) - no_pref[W5] :   0.0 :   True\n",
      "        257 :  -Inf :                                                                                                                                                                                                                                                                                                                                                                                                              works[W6,Sat,morning] + works[W6,Sat,evening] + works[W6,Sat,night] - (works[W6,Sun,morning] + works[W6,Sun,evening] + works[W6,Sun,night]) - no_pref[W6] :   0.0 :   True\n",
      "        258 :  -Inf :                                                                                                                                                                                                                                                                                                                                                                                                              works[W7,Sat,morning] + works[W7,Sat,evening] + works[W7,Sat,night] - (works[W7,Sun,morning] + works[W7,Sun,evening] + works[W7,Sun,night]) - no_pref[W7] :   0.0 :   True\n",
      "        259 :  -Inf :                                                                                                                                                                                                                                                                                                                                                                                                              works[W8,Sat,morning] + works[W8,Sat,evening] + works[W8,Sat,night] - (works[W8,Sun,morning] + works[W8,Sun,evening] + works[W8,Sun,night]) - no_pref[W8] :   0.0 :   True\n",
      "        260 :  -Inf :                                                                                                                                                                                                                                                                                                                                                                                                              works[W9,Sat,morning] + works[W9,Sat,evening] + works[W9,Sat,night] - (works[W9,Sun,morning] + works[W9,Sun,evening] + works[W9,Sun,night]) - no_pref[W9] :   0.0 :   True\n",
      "        261 :  -Inf :                                                                                                                                                                                                                                                                                                                                                                                                       works[W10,Sat,morning] + works[W10,Sat,evening] + works[W10,Sat,night] - (works[W10,Sun,morning] + works[W10,Sun,evening] + works[W10,Sun,night]) - no_pref[W10] :   0.0 :   True\n",
      "\n",
      "9 Declarations: works_index works needed_index needed no_pref_index no_pref obj constraints_index constraints\n"
     ]
    }
   ],
   "source": [
    "model.pprint()"
   ]
  },
  {
   "cell_type": "markdown",
   "metadata": {},
   "source": [
    "Now, the model created can be solved. A model can be visualized with model.pprint(). This problem is composed of binary variables, so a Mixed Integer Programming solver suits our requirements and CBC from COIN-OR will be selected, https://projects.coin-or.org/Cbc."
   ]
  },
  {
   "cell_type": "markdown",
   "metadata": {},
   "source": [
    "# Find the solutions\n",
    "Local solver:\n",
    "Need to have installed cbc solver and added the executable to the path. One easy way to do this is to download it from https://ampl.com/products/solvers/open-source/#cbc for your particular OS, put the files into a folder and then add that folder to your environment variables."
   ]
  },
  {
   "cell_type": "code",
   "execution_count": 48,
   "metadata": {},
   "outputs": [],
   "source": [
    "opt = SolverFactory('cbc')  # Select solver\n",
    "solver_manager = SolverManagerFactory('neos')  # Solve in neos server\n",
    "results = solver_manager.solve(model, opt=opt)"
   ]
  },
  {
   "cell_type": "code",
   "execution_count": 49,
   "metadata": {},
   "outputs": [],
   "source": [
    "# Extract the solution\n",
    "def get_workers_needed(needed):\n",
    "    \"\"\"Extract to a list the needed workers for the optimal solution.\"\"\"\n",
    "    workers_needed = []\n",
    "    for worker in workers:\n",
    "        if needed[worker].value == 1:\n",
    "            workers_needed.append(worker)\n",
    "    return workers_needed\n",
    "\n",
    "\n",
    "def get_work_table(works):\n",
    "    \"\"\"Build a timetable of the week as a dictionary from the model's optimal solution.\"\"\"\n",
    "    week_table = {day: {shift: [] for shift in days_shifts[day]} for day in days}\n",
    "    for worker in workers:\n",
    "        for day in days:\n",
    "            for shift in days_shifts[day]:\n",
    "                    if works[worker, day, shift].value == 1:\n",
    "                        week_table[day][shift].append(worker)\n",
    "    return week_table\n",
    "\n",
    "\n",
    "def get_no_preference(no_pref):\n",
    "    \"\"\"Extract to a list the workers not satisfied with their weekend preference.\"\"\"\n",
    "    return [worker for worker in workers if no_pref[worker].value == 1]\n",
    "\n",
    "\n",
    "workers_needed = get_workers_needed(model.needed)  # dict with the optimal timetable\n",
    "week_table = get_work_table(model.works)  # list with the required workers\n",
    "workers_no_pref = get_no_preference(model.no_pref)  # list with the non-satisfied workers (work on Sat but not on Sun)"
   ]
  },
  {
   "cell_type": "code",
   "execution_count": 50,
   "metadata": {},
   "outputs": [
    {
     "name": "stdout",
     "output_type": "stream",
     "text": [
      "Workers needed:\n",
      "  W1\n",
      "  W2\n",
      "  W3\n",
      "  W4\n",
      "  W5\n",
      "  W6\n",
      "  W10\n"
     ]
    }
   ],
   "source": [
    "# Visualize solution as json\n",
    "import json\n",
    "print('Workers needed:')\n",
    "[print('  ' + worker) for worker in workers_needed];"
   ]
  },
  {
   "cell_type": "code",
   "execution_count": 51,
   "metadata": {},
   "outputs": [
    {
     "name": "stdout",
     "output_type": "stream",
     "text": [
      "Work schedule:\n",
      "{\n",
      "  \"Mon\": {\n",
      "    \"morning\": [\n",
      "      \"W5\",\n",
      "      \"W10\"\n",
      "    ],\n",
      "    \"evening\": [\n",
      "      \"W2\",\n",
      "      \"W4\"\n",
      "    ],\n",
      "    \"night\": [\n",
      "      \"W3\"\n",
      "    ]\n",
      "  },\n",
      "  \"Tue\": {\n",
      "    \"morning\": [\n",
      "      \"W1\",\n",
      "      \"W6\"\n",
      "    ],\n",
      "    \"evening\": [\n",
      "      \"W4\",\n",
      "      \"W10\"\n",
      "    ],\n",
      "    \"night\": [\n",
      "      \"W3\"\n",
      "    ]\n",
      "  },\n",
      "  \"Wed\": {\n",
      "    \"morning\": [\n",
      "      \"W1\",\n",
      "      \"W6\"\n",
      "    ],\n",
      "    \"evening\": [\n",
      "      \"W2\",\n",
      "      \"W10\"\n",
      "    ],\n",
      "    \"night\": [\n",
      "      \"W5\"\n",
      "    ]\n",
      "  },\n",
      "  \"Thu\": {\n",
      "    \"morning\": [\n",
      "      \"W1\",\n",
      "      \"W4\"\n",
      "    ],\n",
      "    \"evening\": [\n",
      "      \"W2\",\n",
      "      \"W10\"\n",
      "    ],\n",
      "    \"night\": [\n",
      "      \"W6\"\n",
      "    ]\n",
      "  },\n",
      "  \"Fri\": {\n",
      "    \"morning\": [\n",
      "      \"W1\",\n",
      "      \"W3\"\n",
      "    ],\n",
      "    \"evening\": [\n",
      "      \"W2\",\n",
      "      \"W4\"\n",
      "    ],\n",
      "    \"night\": [\n",
      "      \"W10\"\n",
      "    ]\n",
      "  },\n",
      "  \"Sat\": {\n",
      "    \"morning\": [\n",
      "      \"W5\",\n",
      "      \"W6\"\n",
      "    ],\n",
      "    \"evening\": [\n",
      "      \"W1\",\n",
      "      \"W3\"\n",
      "    ],\n",
      "    \"night\": [\n",
      "      \"W2\"\n",
      "    ]\n",
      "  },\n",
      "  \"Sun\": {\n",
      "    \"morning\": [\n",
      "      \"W5\"\n",
      "    ],\n",
      "    \"evening\": [\n",
      "      \"W6\"\n",
      "    ],\n",
      "    \"night\": [\n",
      "      \"W3\"\n",
      "    ]\n",
      "  }\n",
      "}\n"
     ]
    }
   ],
   "source": [
    "print('Work schedule:')\n",
    "print(json.dumps(week_table, indent=2))"
   ]
  },
  {
   "cell_type": "code",
   "execution_count": 52,
   "metadata": {},
   "outputs": [
    {
     "name": "stdout",
     "output_type": "stream",
     "text": [
      "Workers not satisfied by weekend condition:\n",
      "  W1\n",
      "  W2\n"
     ]
    }
   ],
   "source": [
    "print('Workers not satisfied by weekend condition:')\n",
    "[print('  ' + worker) for worker in workers_no_pref];"
   ]
  },
  {
   "cell_type": "code",
   "execution_count": 53,
   "metadata": {},
   "outputs": [
    {
     "name": "stdout",
     "output_type": "stream",
     "text": [
      "Objective value: 72.0\n"
     ]
    }
   ],
   "source": [
    "print('Objective value:', model.obj())"
   ]
  }
 ],
 "metadata": {
  "kernelspec": {
   "display_name": "Python 3",
   "language": "python",
   "name": "python3"
  },
  "language_info": {
   "codemirror_mode": {
    "name": "ipython",
    "version": 3
   },
   "file_extension": ".py",
   "mimetype": "text/x-python",
   "name": "python",
   "nbconvert_exporter": "python",
   "pygments_lexer": "ipython3",
   "version": "3.7.3"
  }
 },
 "nbformat": 4,
 "nbformat_minor": 2
}
