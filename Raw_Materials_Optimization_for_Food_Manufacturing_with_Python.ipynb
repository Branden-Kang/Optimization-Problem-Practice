{
  "nbformat": 4,
  "nbformat_minor": 0,
  "metadata": {
    "colab": {
      "name": "Raw Materials Optimization for Food Manufacturing with Python.ipynb",
      "provenance": [],
      "authorship_tag": "ABX9TyMsqKgRiKVKeZC6P7hHcLEx"
    },
    "kernelspec": {
      "name": "python3",
      "display_name": "Python 3"
    },
    "language_info": {
      "name": "python"
    }
  },
  "cells": [
    {
      "cell_type": "markdown",
      "metadata": {
        "id": "s80TMxa87huN"
      },
      "source": [
        "[Reference](https://towardsdatascience.com/raw-materials-optimization-for-food-manufacturing-with-python-fbf2be4a74)"
      ]
    },
    {
      "cell_type": "markdown",
      "metadata": {
        "id": "VoiWjkSD7wue"
      },
      "source": [
        "# I. Problem Statement\n",
        "\n",
        "<b> Scenario </b> <br>\n",
        "7 ingredients are available\n",
        "- Meat: Chicken, Beef, Mutton\n",
        "- Non-Meat: Rice, Corn, Wheat bran, Peanuts\n",
        "\n",
        "<b> Objective </b> <br>\n",
        "Minimize the total cost per bar (Weight: 120g).\n",
        "\n",
        "<b> Constraints </b> <br>\n",
        "Minimal values for protein and fibre <br>\n",
        "Maximum values for fat, salt and sugar\n",
        "\n",
        "\n"
      ]
    },
    {
      "cell_type": "markdown",
      "metadata": {
        "id": "g9l9RKAs8MJD"
      },
      "source": [
        "# II. Build your model\n"
      ]
    },
    {
      "cell_type": "code",
      "metadata": {
        "colab": {
          "base_uri": "https://localhost:8080/"
        },
        "id": "TOSVS6rv8fMp",
        "outputId": "9c5cad9c-7722-4c51-b1fb-7490b4e0151b"
      },
      "source": [
        "pip install pulp"
      ],
      "execution_count": 2,
      "outputs": [
        {
          "output_type": "stream",
          "name": "stdout",
          "text": [
            "Collecting pulp\n",
            "  Downloading PuLP-2.5.1-py3-none-any.whl (41.2 MB)\n",
            "\u001b[K     |████████████████████████████████| 41.2 MB 72 kB/s \n",
            "\u001b[?25hInstalling collected packages: pulp\n",
            "Successfully installed pulp-2.5.1\n"
          ]
        }
      ]
    },
    {
      "cell_type": "markdown",
      "metadata": {
        "id": "0PlWYOeM8mB8"
      },
      "source": [
        "## 1. Import Parameters and Declare your variables, parameters and model\n"
      ]
    },
    {
      "cell_type": "code",
      "metadata": {
        "colab": {
          "base_uri": "https://localhost:8080/"
        },
        "id": "7yySZLRTABA-",
        "outputId": "25cd144c-5d92-4548-cb0d-786e7fb8fa9f"
      },
      "source": [
        "dict_costs"
      ],
      "execution_count": 8,
      "outputs": [
        {
          "output_type": "execute_result",
          "data": {
            "text/plain": [
              "{'Beef': 0.15,\n",
              " 'Chicken': 0.095,\n",
              " 'Corn': 0.012,\n",
              " 'Mutton': 0.1,\n",
              " 'Peanuts': 0.013000000000000001,\n",
              " 'Rice': 0.002,\n",
              " 'Wheat bran': 0.005}"
            ]
          },
          "metadata": {},
          "execution_count": 8
        }
      ]
    },
    {
      "cell_type": "code",
      "metadata": {
        "colab": {
          "base_uri": "https://localhost:8080/"
        },
        "id": "KuHjSZRb7eeA",
        "outputId": "23dd7277-c52b-4d29-e80d-c1fee6f6ad67"
      },
      "source": [
        "import pandas as pd\n",
        "from pulp import *\n",
        "\n",
        "# Import Nutrition Facts\n",
        "nutrition = pd.read_csv('https://gist.githubusercontent.com/samirsaci/b787a80c5d4c753c14903d1c01ad0501/raw/7c311689985303c16947eb023936b91adbf5b0f7/nutritions_facts.csv', index_col = 0)\n",
        "# Import Costs\n",
        "costs = pd.read_csv('https://gist.githubusercontent.com/samirsaci/9d205ca300ab33b1e449ac593d84f851/raw/f923fbb6c9007ea26f6707f1f5f8843737305089/costs.csv')\n",
        "dict_costs = dict(zip(costs['Ingredients'], costs['Costs']))\n",
        "\n",
        "# Variables\n",
        "variables = ['Chicken', 'Beef', 'Mutton', 'Rice', 'Wheat bran', 'Corn', 'Peanuts']\n",
        "\n",
        "# Initialize Class\n",
        "model = LpProblem(\"Optimize your Protein Bar\", LpMinimize)\n",
        "\n",
        "# Create Decision Variables\n",
        "x = LpVariable.dicts(\"Qty\", [j for j in variables],\n",
        "                     lowBound=0, upBound=None, cat='continuous')"
      ],
      "execution_count": 3,
      "outputs": [
        {
          "output_type": "stream",
          "name": "stderr",
          "text": [
            "/usr/local/lib/python3.7/dist-packages/pulp/pulp.py:1313: UserWarning: Spaces are not permitted in the name. Converted to '_'\n",
            "  warnings.warn(\"Spaces are not permitted in the name. Converted to '_'\")\n"
          ]
        }
      ]
    },
    {
      "cell_type": "markdown",
      "metadata": {
        "id": "U8DEO9un8qN0"
      },
      "source": [
        "## 2. Define the objective and add constraints\n"
      ]
    },
    {
      "cell_type": "code",
      "metadata": {
        "id": "jw2F1_G18bKN"
      },
      "source": [
        "# Define Objective Function\n",
        "model += (lpSum([dict_costs[i] * x[i] for i in variables]))\n",
        "\n",
        "\n",
        "# Add Constraints\n",
        "model += (lpSum([x[i] for i in variables])) == 120\n",
        "model += (lpSum([x[i] * nutrition.loc[i, 'Protein'] for i in variables])) >= 22\n",
        "model += (lpSum([x[i] * nutrition.loc[i, 'Fat'] for i in variables])) <= 22\n",
        "model += (lpSum([x[i] * nutrition.loc[i, 'Fibre'] for i in variables])) >= 6\n",
        "model += (lpSum([x[i] * nutrition.loc[i, 'Salt'] for i in variables])) <= 3\n",
        "model += (lpSum([x[i] * nutrition.loc[i, 'Sugar'] for i in variables])) <= 20"
      ],
      "execution_count": 4,
      "outputs": []
    },
    {
      "cell_type": "markdown",
      "metadata": {
        "id": "LGdu9vC78vyF"
      },
      "source": [
        "# 3. Solve your model and analyze the results"
      ]
    },
    {
      "cell_type": "code",
      "metadata": {
        "colab": {
          "base_uri": "https://localhost:8080/"
        },
        "id": "Qz9GJZV88vBI",
        "outputId": "7651f1c2-834d-4a98-f531-81b1d2f83860"
      },
      "source": [
        "# Solve Model\n",
        "model.solve()\n",
        "print(\"Cost per Bar = {:,} $\".format(round(value(model.objective), 2)))\n",
        "print('\\n' + \"Status: {}\".format(LpStatus[model.status]))\n",
        "for v in model.variables():\n",
        "    print(v.name, \"=\", round(v.varValue,2), 'g')"
      ],
      "execution_count": 5,
      "outputs": [
        {
          "output_type": "stream",
          "name": "stdout",
          "text": [
            "Cost per Bar = 10.32 $\n",
            "\n",
            "Status: Optimal\n",
            "Qty_Beef = 65.32 g\n",
            "Qty_Chicken = 0.0 g\n",
            "Qty_Corn = 0.0 g\n",
            "Qty_Mutton = 0.0 g\n",
            "Qty_Peanuts = 30.96 g\n",
            "Qty_Rice = 0.0 g\n",
            "Qty_Wheat_bran = 23.72 g\n"
          ]
        }
      ]
    }
  ]
}