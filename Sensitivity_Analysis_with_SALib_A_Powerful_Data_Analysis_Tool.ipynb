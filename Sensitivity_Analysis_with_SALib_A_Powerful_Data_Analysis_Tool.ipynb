{
  "nbformat": 4,
  "nbformat_minor": 0,
  "metadata": {
    "colab": {
      "provenance": [],
      "authorship_tag": "ABX9TyOH1EdLmvNtPglh17kdVKbN"
    },
    "kernelspec": {
      "name": "python3",
      "display_name": "Python 3"
    },
    "language_info": {
      "name": "python"
    }
  },
  "cells": [
    {
      "cell_type": "markdown",
      "source": [
        "[Reference](https://reneelin2019.medium.com/sensitivity-analysis-with-salib-a-powerful-data-analysis-tool-30cced461b6e)"
      ],
      "metadata": {
        "id": "z2GF6C2Crd04"
      }
    },
    {
      "cell_type": "code",
      "source": [
        "pip install SALib"
      ],
      "metadata": {
        "colab": {
          "base_uri": "https://localhost:8080/"
        },
        "id": "jb-NUIUMrb0w",
        "outputId": "32af01c8-5dce-4b99-bf54-2d98671a826d"
      },
      "execution_count": 1,
      "outputs": [
        {
          "output_type": "stream",
          "name": "stdout",
          "text": [
            "Looking in indexes: https://pypi.org/simple, https://us-python.pkg.dev/colab-wheels/public/simple/\n",
            "Collecting SALib\n",
            "  Downloading salib-1.4.6.1-py3-none-any.whl (758 kB)\n",
            "\u001b[K     |████████████████████████████████| 758 kB 15.4 MB/s \n",
            "\u001b[?25hRequirement already satisfied: scipy>=1.7.3 in /usr/local/lib/python3.8/dist-packages (from SALib) (1.7.3)\n",
            "Collecting multiprocess\n",
            "  Downloading multiprocess-0.70.14-py38-none-any.whl (132 kB)\n",
            "\u001b[K     |████████████████████████████████| 132 kB 16.2 MB/s \n",
            "\u001b[?25hRequirement already satisfied: matplotlib>=3.2.2 in /usr/local/lib/python3.8/dist-packages (from SALib) (3.2.2)\n",
            "Requirement already satisfied: numpy>=1.20.3 in /usr/local/lib/python3.8/dist-packages (from SALib) (1.21.6)\n",
            "Requirement already satisfied: pandas>=1.1.2 in /usr/local/lib/python3.8/dist-packages (from SALib) (1.3.5)\n",
            "Requirement already satisfied: pyparsing!=2.0.4,!=2.1.2,!=2.1.6,>=2.0.1 in /usr/local/lib/python3.8/dist-packages (from matplotlib>=3.2.2->SALib) (3.0.9)\n",
            "Requirement already satisfied: kiwisolver>=1.0.1 in /usr/local/lib/python3.8/dist-packages (from matplotlib>=3.2.2->SALib) (1.4.4)\n",
            "Requirement already satisfied: python-dateutil>=2.1 in /usr/local/lib/python3.8/dist-packages (from matplotlib>=3.2.2->SALib) (2.8.2)\n",
            "Requirement already satisfied: cycler>=0.10 in /usr/local/lib/python3.8/dist-packages (from matplotlib>=3.2.2->SALib) (0.11.0)\n",
            "Requirement already satisfied: pytz>=2017.3 in /usr/local/lib/python3.8/dist-packages (from pandas>=1.1.2->SALib) (2022.6)\n",
            "Requirement already satisfied: six>=1.5 in /usr/local/lib/python3.8/dist-packages (from python-dateutil>=2.1->matplotlib>=3.2.2->SALib) (1.15.0)\n",
            "Requirement already satisfied: dill>=0.3.6 in /usr/local/lib/python3.8/dist-packages (from multiprocess->SALib) (0.3.6)\n",
            "Installing collected packages: multiprocess, SALib\n",
            "Successfully installed SALib-1.4.6.1 multiprocess-0.70.14\n"
          ]
        }
      ]
    },
    {
      "cell_type": "code",
      "execution_count": 2,
      "metadata": {
        "colab": {
          "base_uri": "https://localhost:8080/"
        },
        "id": "ENFPP100rP1X",
        "outputId": "d0316b8d-12db-432a-8e34-5fc03e5edf88"
      },
      "outputs": [
        {
          "output_type": "stream",
          "name": "stderr",
          "text": [
            "<ipython-input-2-d05e81f90b81>:16: DeprecationWarning: `salib.sample.saltelli` will be removed in SALib 1.5. Please use `salib.sample.sobol`\n",
            "  param_values = saltelli.sample(problem, 1024)\n"
          ]
        },
        {
          "output_type": "stream",
          "name": "stdout",
          "text": [
            "          ST   ST_conf\n",
            "x1  0.555860  0.096789\n",
            "x2  0.441898  0.042313\n",
            "x3  0.244675  0.025023\n",
            "          S1   S1_conf\n",
            "x1  0.316832  0.065679\n",
            "x2  0.443763  0.059774\n",
            "x3  0.012203  0.057896\n",
            "                S2   S2_conf\n",
            "(x1, x2)  0.009254  0.081447\n",
            "(x1, x3)  0.238172  0.107369\n",
            "(x2, x3) -0.004888  0.062377\n",
            "[0.31683154 0.44376306 0.01220312]\n"
          ]
        }
      ],
      "source": [
        "from SALib.sample import saltelli\n",
        "from SALib.analyze import sobol\n",
        "from SALib.test_functions import Ishigami\n",
        "import numpy as np\n",
        "\n",
        "# Define the model inputs\n",
        "problem = {\n",
        "    'num_vars': 3,\n",
        "    'names': ['x1', 'x2', 'x3'],\n",
        "    'bounds': [[-3.14159265359, 3.14159265359],\n",
        "               [-3.14159265359, 3.14159265359],\n",
        "               [-3.14159265359, 3.14159265359]]\n",
        "}\n",
        "\n",
        "# Generate samples\n",
        "param_values = saltelli.sample(problem, 1024)\n",
        "\n",
        "# Run model (example)\n",
        "Y = Ishigami.evaluate(param_values)\n",
        "\n",
        "# Perform analysis\n",
        "Si = sobol.analyze(problem, Y, print_to_console=True)\n",
        "\n",
        "# Print the first-order sensitivity indices\n",
        "print(Si['S1'])"
      ]
    }
  ]
}