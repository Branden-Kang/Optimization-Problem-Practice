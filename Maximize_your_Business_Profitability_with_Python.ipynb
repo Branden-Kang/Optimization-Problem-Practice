{
  "nbformat": 4,
  "nbformat_minor": 0,
  "metadata": {
    "colab": {
      "name": "Maximize your Business Profitability with Python.ipynb",
      "provenance": [],
      "authorship_tag": "ABX9TyN4FeFGENW2+wGoQgzQmkfK"
    },
    "kernelspec": {
      "name": "python3",
      "display_name": "Python 3"
    },
    "language_info": {
      "name": "python"
    }
  },
  "cells": [
    {
      "cell_type": "markdown",
      "metadata": {
        "id": "uKpvnTanoGss"
      },
      "source": [
        "[Reference](https://towardsdatascience.com/maximize-your-business-profitability-with-python-fbefebbdf802)"
      ]
    },
    {
      "cell_type": "code",
      "metadata": {
        "colab": {
          "base_uri": "https://localhost:8080/"
        },
        "id": "lAjhNC-6oQz1",
        "outputId": "552b162a-3616-40d9-9903-f80a222f2d6c"
      },
      "source": [
        "pip install pulp"
      ],
      "execution_count": 2,
      "outputs": [
        {
          "output_type": "stream",
          "name": "stdout",
          "text": [
            "Collecting pulp\n",
            "  Downloading PuLP-2.5.1-py3-none-any.whl (41.2 MB)\n",
            "\u001b[K     |████████████████████████████████| 41.2 MB 77 kB/s \n",
            "\u001b[?25hInstalling collected packages: pulp\n",
            "Successfully installed pulp-2.5.1\n"
          ]
        }
      ]
    },
    {
      "cell_type": "code",
      "metadata": {
        "colab": {
          "base_uri": "https://localhost:8080/"
        },
        "id": "Hsl6VX7OoFC1",
        "outputId": "9c75977e-1a73-41f7-c94a-6528067ea162"
      },
      "source": [
        "from pulp import *\n",
        "\n",
        "# Optimize your Bakery Model \n",
        "\n",
        "# Parameters \n",
        "items = [\"A\", \"B\", \"C\", \"D\", \"E\", \"F\"]\n",
        "profit = {\"A\":6, \"B\":4.4, \"C\":7.5, \"D\":0.9, \"E\":1.2, \"F\":2.2}\n",
        "baker = {\"A\":50, \"B\":0, \"C\":45, \"D\":35, \"E\":25, \"F\":0}\n",
        "oven = {\"A\":45, \"B\":0, \"C\":90, \"D\":20, \"E\":45, \"F\":0}\n",
        "display = {\"A\":4, \"B\":1.5, \"C\":3, \"D\":1, \"E\":1, \"F\":1}\n",
        "assist = {\"A\":0, \"B\":12, \"C\":0, \"D\":0, \"E\":0, \"F\":8}\n",
        "\n",
        "# Initiliaze Class\n",
        "model = LpProblem('Maximize Bakery Profits', LpMaximize)\n",
        "\n",
        "# 2. Define Decision Variables\n",
        "A = LpVariable('A', lowBound = 0, cat = 'Integer')\n",
        "B = LpVariable('B', lowBound = 0, cat = 'Integer')\n",
        "C = LpVariable('C', lowBound = 0, cat = 'Integer')\n",
        "D = LpVariable('D', lowBound = 0, cat = 'Integer')\n",
        "E = LpVariable('E', lowBound = 0, cat = 'Integer')\n",
        "F = LpVariable('F', lowBound = 0, cat = 'Integer')\n",
        "var_dict = {\"A\":A, \"B\":B, \"C\":C, \"D\":D, \"E\":E, \"F\":F}"
      ],
      "execution_count": 3,
      "outputs": [
        {
          "output_type": "stream",
          "name": "stderr",
          "text": [
            "/usr/local/lib/python3.7/dist-packages/pulp/pulp.py:1313: UserWarning: Spaces are not permitted in the name. Converted to '_'\n",
            "  warnings.warn(\"Spaces are not permitted in the name. Converted to '_'\")\n"
          ]
        }
      ]
    },
    {
      "cell_type": "code",
      "metadata": {
        "id": "PitbpdIGoMY-"
      },
      "source": [
        "# Define Objective Function\n",
        "model += lpSum([profit[i] * var_dict[i] for i in items])\n",
        "\n",
        "# 4. Define Constraints \n",
        "# Bakers\n",
        "model += lpSum([var_dict[i]*baker[i] for i in items]) <= 24*60\n",
        "# Oven\n",
        "model += lpSum([var_dict[i]*oven[i] for i in items]) <= 48*60\n",
        "# Assistant\n",
        "model += lpSum([var_dict[i]*assist[i] for i in items]) <= 4*60\n",
        "# Display\n",
        "model += lpSum([var_dict[i]*display[i] for i in items]) <= 100"
      ],
      "execution_count": 4,
      "outputs": []
    },
    {
      "cell_type": "code",
      "metadata": {
        "colab": {
          "base_uri": "https://localhost:8080/"
        },
        "id": "eLYTftl_oODb",
        "outputId": "35974de8-592d-4a9a-ba40-f77b6eb420ae"
      },
      "source": [
        "# Names\n",
        "dict_name = dict(zip([\"A\", \"B\", \"C\", \"D\", \"E\", \"F\"], \n",
        "                     [\"Lemon Cake\", \"Sandwich\", \"Chocolate Cake\", \"Croissant\", \"Chocolate Eclair\", \"Panini\"]))\n",
        "\n",
        "# Solve Model\n",
        "model.solve()\n",
        "for v in model.variables():\n",
        "    print(dict_name[v.name], \"=\", int(v.varValue))\n",
        "print(\"Profit reached: {:,} euros\".format(sum(var_dict[i].varValue * profit[i] for i in items)))"
      ],
      "execution_count": 5,
      "outputs": [
        {
          "output_type": "stream",
          "name": "stdout",
          "text": [
            "Lemon Cake = 0\n",
            "Sandwich = 20\n",
            "Chocolate Cake = 23\n",
            "Croissant = 0\n",
            "Chocolate Eclair = 1\n",
            "Panini = 0\n",
            "Profit reached: 261.7 euros\n"
          ]
        }
      ]
    }
  ]
}