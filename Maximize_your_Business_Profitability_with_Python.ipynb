{
  "nbformat": 4,
  "nbformat_minor": 0,
  "metadata": {
    "colab": {
      "name": "Maximize your Business Profitability with Python.ipynb",
      "provenance": [],
      "collapsed_sections": [],
      "authorship_tag": "ABX9TyPbzaOEZQpjHGKOjoGvAa3N"
    },
    "kernelspec": {
      "name": "python3",
      "display_name": "Python 3"
    },
    "language_info": {
      "name": "python"
    }
  },
  "cells": [
    {
      "cell_type": "markdown",
      "metadata": {
        "id": "N-JkrFe5xVSn"
      },
      "source": [
        "[Reference](https://towardsdatascience.com/maximize-your-business-profitability-with-python-fbefebbdf802)"
      ]
    },
    {
      "cell_type": "code",
      "metadata": {
        "id": "76DFfbXyxi97",
        "colab": {
          "base_uri": "https://localhost:8080/"
        },
        "outputId": "d4391236-f534-491b-9f82-027cb178f275"
      },
      "source": [
        "pip install PuLP"
      ],
      "execution_count": 1,
      "outputs": [
        {
          "output_type": "stream",
          "name": "stdout",
          "text": [
            "Collecting PuLP\n",
            "  Downloading PuLP-2.5.1-py3-none-any.whl (41.2 MB)\n",
            "\u001b[K     |████████████████████████████████| 41.2 MB 77 kB/s \n",
            "\u001b[?25hInstalling collected packages: PuLP\n",
            "Successfully installed PuLP-2.5.1\n"
          ]
        }
      ]
    },
    {
      "cell_type": "markdown",
      "metadata": {
        "id": "6s3VK4cCxkz7"
      },
      "source": [
        "# 1. Declare your variables, parameters and model\n"
      ]
    },
    {
      "cell_type": "code",
      "metadata": {
        "colab": {
          "base_uri": "https://localhost:8080/"
        },
        "id": "JAY45MjSxR8J",
        "outputId": "47cd424f-eada-41a4-e112-1f77988c454b"
      },
      "source": [
        "from pulp import *\n",
        "\n",
        "# Optimize your Bakery Model \n",
        "\n",
        "# Parameters \n",
        "items = [\"A\", \"B\", \"C\", \"D\", \"E\", \"F\"]\n",
        "profit = {\"A\":6, \"B\":4.4, \"C\":7.5, \"D\":0.9, \"E\":1.2, \"F\":2.2}\n",
        "baker = {\"A\":50, \"B\":0, \"C\":45, \"D\":35, \"E\":25, \"F\":0}\n",
        "oven = {\"A\":45, \"B\":0, \"C\":90, \"D\":20, \"E\":45, \"F\":0}\n",
        "display = {\"A\":4, \"B\":1.5, \"C\":3, \"D\":1, \"E\":1, \"F\":1}\n",
        "assist = {\"A\":0, \"B\":12, \"C\":0, \"D\":0, \"E\":0, \"F\":8}\n",
        "\n",
        "# Initiliaze Class\n",
        "model = LpProblem('Maximize Bakery Profits', LpMaximize)\n",
        "\n",
        "# 2. Define Decision Variables\n",
        "A = LpVariable('A', lowBound = 0, cat = 'Integer')\n",
        "B = LpVariable('B', lowBound = 0, cat = 'Integer')\n",
        "C = LpVariable('C', lowBound = 0, cat = 'Integer')\n",
        "D = LpVariable('D', lowBound = 0, cat = 'Integer')\n",
        "E = LpVariable('E', lowBound = 0, cat = 'Integer')\n",
        "F = LpVariable('F', lowBound = 0, cat = 'Integer')\n",
        "var_dict = {\"A\":A, \"B\":B, \"C\":C, \"D\":D, \"E\":E, \"F\":F}"
      ],
      "execution_count": 2,
      "outputs": [
        {
          "output_type": "stream",
          "name": "stderr",
          "text": [
            "/usr/local/lib/python3.7/dist-packages/pulp/pulp.py:1313: UserWarning: Spaces are not permitted in the name. Converted to '_'\n",
            "  warnings.warn(\"Spaces are not permitted in the name. Converted to '_'\")\n"
          ]
        }
      ]
    },
    {
      "cell_type": "markdown",
      "metadata": {
        "id": "cwx6Njr6xmdj"
      },
      "source": [
        "# 2. Define the objective and add constraints"
      ]
    },
    {
      "cell_type": "code",
      "metadata": {
        "id": "Pw8fooTvxUgu"
      },
      "source": [
        "# Define Objective Function\n",
        "model += lpSum([profit[i] * var_dict[i] for i in items])\n",
        "\n",
        "# 4. Define Constraints \n",
        "# Bakers\n",
        "model += lpSum([var_dict[i]*baker[i] for i in items]) <= 24*60\n",
        "# Oven\n",
        "model += lpSum([var_dict[i]*oven[i] for i in items]) <= 48*60\n",
        "# Assistant\n",
        "model += lpSum([var_dict[i]*assist[i] for i in items]) <= 4*60\n",
        "# Display\n",
        "model += lpSum([var_dict[i]*display[i] for i in items]) <= 100"
      ],
      "execution_count": 3,
      "outputs": []
    },
    {
      "cell_type": "markdown",
      "metadata": {
        "id": "2gAdEipZxpbb"
      },
      "source": [
        "# 3. Solve your model and analyze the results"
      ]
    },
    {
      "cell_type": "code",
      "metadata": {
        "id": "YmYlxPNNxqoj",
        "colab": {
          "base_uri": "https://localhost:8080/"
        },
        "outputId": "2b6c7467-8548-41db-87cd-41547c8cf2dc"
      },
      "source": [
        "# Names\n",
        "dict_name = dict(zip([\"A\", \"B\", \"C\", \"D\", \"E\", \"F\"], \n",
        "                     [\"Lemon Cake\", \"Sandwich\", \"Chocolate Cake\", \"Croissant\", \"Chocolate Eclair\", \"Panini\"]))\n",
        "\n",
        "# Solve Model\n",
        "model.solve()\n",
        "for v in model.variables():\n",
        "    print(dict_name[v.name], \"=\", int(v.varValue))\n",
        "print(\"Profit reached: {:,} euros\".format(sum(var_dict[i].varValue * profit[i] for i in items)))\n"
      ],
      "execution_count": 4,
      "outputs": [
        {
          "output_type": "stream",
          "name": "stdout",
          "text": [
            "Lemon Cake = 0\n",
            "Sandwich = 20\n",
            "Chocolate Cake = 23\n",
            "Croissant = 0\n",
            "Chocolate Eclair = 1\n",
            "Panini = 0\n",
            "Profit reached: 261.7 euros\n"
          ]
        }
      ]
    }
  ]
}