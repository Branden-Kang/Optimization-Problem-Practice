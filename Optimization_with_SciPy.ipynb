{
  "nbformat": 4,
  "nbformat_minor": 0,
  "metadata": {
    "colab": {
      "name": "Optimization with SciPy.ipynb",
      "provenance": [],
      "authorship_tag": "ABX9TyMvrf0/vC6NFbnWLkxyyzFR"
    },
    "kernelspec": {
      "name": "python3",
      "display_name": "Python 3"
    }
  },
  "cells": [
    {
      "cell_type": "markdown",
      "metadata": {
        "id": "qdCVXXz9oGaC"
      },
      "source": [
        "[Reference1](https://towardsdatascience.com/optimization-with-scipy-and-application-ideas-to-machine-learning-81d39c7938b8) <br>\n",
        "[Reference2](https://github.com/tirthajyoti/Optimization-Python)"
      ]
    },
    {
      "cell_type": "code",
      "metadata": {
        "id": "VX2lPp5Nojv6"
      },
      "source": [
        "from scipy import optimize\n",
        "import numpy as np"
      ],
      "execution_count": 4,
      "outputs": []
    },
    {
      "cell_type": "code",
      "metadata": {
        "id": "weLiLX3koEqR"
      },
      "source": [
        "def scalar1(x):\n",
        "    return np.sin(x)*np.exp(-0.1*(x-0.6)**2)"
      ],
      "execution_count": 5,
      "outputs": []
    },
    {
      "cell_type": "code",
      "metadata": {
        "id": "uFufQWhuolMq"
      },
      "source": [
        "result = optimize.minimize_scalar(scalar1)"
      ],
      "execution_count": 6,
      "outputs": []
    },
    {
      "cell_type": "code",
      "metadata": {
        "id": "FeMys7BUolkq",
        "outputId": "4366a566-daff-4f44-cf5b-1a58ad314f82",
        "colab": {
          "base_uri": "https://localhost:8080/",
          "height": 102
        }
      },
      "source": [
        "print(result)"
      ],
      "execution_count": 7,
      "outputs": [
        {
          "output_type": "stream",
          "text": [
            "     fun: -0.6743051024666711\n",
            "    nfev: 15\n",
            "     nit: 10\n",
            " success: True\n",
            "       x: -1.2214484245210282\n"
          ],
          "name": "stdout"
        }
      ]
    },
    {
      "cell_type": "code",
      "metadata": {
        "id": "jBekL3sGonI_",
        "outputId": "96d1f9d7-3139-42f5-8f9a-ffa08e51cbf3",
        "colab": {
          "base_uri": "https://localhost:8080/",
          "height": 34
        }
      },
      "source": [
        "print(\"Minimum occurs at: \",result['x'])"
      ],
      "execution_count": 8,
      "outputs": [
        {
          "output_type": "stream",
          "text": [
            "Minimum occurs at:  -1.2214484245210282\n"
          ],
          "name": "stdout"
        }
      ]
    },
    {
      "cell_type": "code",
      "metadata": {
        "id": "wRun7xSsorIb"
      },
      "source": [
        "result = optimize.minimize_scalar(scalar1, bounds = (0,10),method='Bounded')"
      ],
      "execution_count": 9,
      "outputs": []
    },
    {
      "cell_type": "code",
      "metadata": {
        "id": "ciPi-SoNotb4",
        "outputId": "43cc6414-d5a1-4869-f0db-3f082094f02e",
        "colab": {
          "base_uri": "https://localhost:8080/",
          "height": 34
        }
      },
      "source": [
        "print(\"When bounded between 0 and 10, minimum occurs at: \",result['x'])"
      ],
      "execution_count": 10,
      "outputs": [
        {
          "output_type": "stream",
          "text": [
            "When bounded between 0 and 10, minimum occurs at:  4.101466164987216\n"
          ],
          "name": "stdout"
        }
      ]
    },
    {
      "cell_type": "code",
      "metadata": {
        "id": "Hb-rq46Nouey"
      },
      "source": [
        "# Left-sided inequality from the first constraint\n",
        "def constraint1(x):\n",
        "    return 0.5-np.log10(x**2+2)\n",
        "# Right-sided inequality from the first constraint\n",
        "def constraint2(x):\n",
        "    return np.log10(x**2+2) - 1.5\n",
        "# Equality from the second constraint\n",
        "def constraint3(x):\n",
        "    return np.sin(x)+0.3*x**2-1\n",
        "\n",
        "# Construct dictionaries\n",
        "con1 = {'type':'ineq','fun':constraint1}\n",
        "con2 = {'type':'ineq','fun':constraint2}\n",
        "con3 = {'type':'eq','fun':constraint3}\n",
        "\n",
        "# Put those dictionaries into a tuple\n",
        "cons = (con1,con2,con2)"
      ],
      "execution_count": 11,
      "outputs": []
    },
    {
      "cell_type": "code",
      "metadata": {
        "id": "Wm3nv-IKo2xR"
      },
      "source": [
        "result = optimize.minimize(scalar1,x0=0,method='SLSQP',\n",
        "constraints=cons,options={'maxiter':1000})"
      ],
      "execution_count": 12,
      "outputs": []
    },
    {
      "cell_type": "code",
      "metadata": {
        "id": "xxmz9kxPo-a2",
        "outputId": "13f4d2c8-fa65-41e8-c984-93d28ff1ed96",
        "colab": {
          "base_uri": "https://localhost:8080/",
          "height": 170
        }
      },
      "source": [
        "print(result)"
      ],
      "execution_count": 13,
      "outputs": [
        {
          "output_type": "stream",
          "text": [
            "     fun: -0.6651106176769863\n",
            "     jac: array([0.1317206])\n",
            " message: 'Positive directional derivative for linesearch'\n",
            "    nfev: 321\n",
            "     nit: 44\n",
            "    njev: 40\n",
            "  status: 8\n",
            " success: False\n",
            "       x: array([-1.08024796])\n"
          ],
          "name": "stdout"
        }
      ]
    },
    {
      "cell_type": "code",
      "metadata": {
        "id": "NDT9E84ipBu6",
        "outputId": "3efc5528-b14e-4a2f-8daa-1df7b7723be7",
        "colab": {
          "base_uri": "https://localhost:8080/",
          "height": 170
        }
      },
      "source": [
        "result = optimize.minimize(scalar1,x0=-2,method='SLSQP',\n",
        "constraints=cons,options={'maxiter':100})\n",
        "print(result)"
      ],
      "execution_count": 14,
      "outputs": [
        {
          "output_type": "stream",
          "text": [
            "     fun: -0.4625118798972771\n",
            "     jac: array([-0.45217823])\n",
            " message: 'Positive directional derivative for linesearch'\n",
            "    nfev: 3\n",
            "     nit: 5\n",
            "    njev: 1\n",
            "  status: 8\n",
            " success: False\n",
            "       x: array([-2.])\n"
          ],
          "name": "stdout"
        }
      ]
    },
    {
      "cell_type": "code",
      "metadata": {
        "id": "mrkuRCpopLOv"
      },
      "source": [
        "result = optimize.minimize(scalar1,x0=-20,method='SLSQP',\n",
        "constraints=cons,options={'maxiter':3})"
      ],
      "execution_count": 15,
      "outputs": []
    },
    {
      "cell_type": "code",
      "metadata": {
        "id": "iBh1APO3pTEI",
        "outputId": "9a56d58a-6daf-4a8e-abf6-d6be06b5baab",
        "colab": {
          "base_uri": "https://localhost:8080/",
          "height": 170
        }
      },
      "source": [
        "print(result)"
      ],
      "execution_count": 16,
      "outputs": [
        {
          "output_type": "stream",
          "text": [
            "     fun: -0.07152230050085874\n",
            "     jac: array([0.13317725])\n",
            " message: 'Iteration limit exceeded'\n",
            "    nfev: 22\n",
            "     nit: 4\n",
            "    njev: 4\n",
            "  status: 9\n",
            " success: False\n",
            "       x: array([5.44171034])\n"
          ],
          "name": "stdout"
        }
      ]
    },
    {
      "cell_type": "code",
      "metadata": {
        "id": "EKwxV2YXpT3i"
      },
      "source": [
        "def gaussian_mixture(x):\n",
        "    \"\"\"\n",
        "    Computes the resultant Gaussian mixture from an input vector and \n",
        "    known mean, variance quantities\n",
        "    \"\"\"\n",
        "    return -(np.exp(-(x[0]+1)**2/(2.1**2))+\n",
        "             np.exp(-(x[1]-0.3)**2/(0.8**2))+\n",
        "             np.exp(-(x[2]-2.1)**2/(1.7**2)))\n",
        "  \n",
        "x0=np.array([0]*3)\n",
        "result = optimize.minimize(gaussian_mixture,x0=x0,method='SLSQP',\n",
        "                           options={'maxiter':100})"
      ],
      "execution_count": 17,
      "outputs": []
    },
    {
      "cell_type": "code",
      "metadata": {
        "id": "k01sk28BpaPW",
        "outputId": "f5dd7c47-ca49-4bb9-e8f5-cdba6a86c42d",
        "colab": {
          "base_uri": "https://localhost:8080/",
          "height": 170
        }
      },
      "source": [
        "print(result)"
      ],
      "execution_count": 18,
      "outputs": [
        {
          "output_type": "stream",
          "text": [
            "     fun: -2.9999996182639146\n",
            "     jac: array([-8.09729099e-05, -2.40176916e-04,  7.11053610e-04])\n",
            " message: 'Optimization terminated successfully.'\n",
            "    nfev: 42\n",
            "     nit: 8\n",
            "    njev: 8\n",
            "  status: 0\n",
            " success: True\n",
            "       x: array([-1.00017856,  0.29992313,  2.10102744])\n"
          ],
          "name": "stdout"
        }
      ]
    },
    {
      "cell_type": "code",
      "metadata": {
        "id": "XZecjwk1pbmp"
      },
      "source": [
        "def gaussian_mixture(x):\n",
        "    \"\"\"\n",
        "    Computes the resultant Gaussian mixture from an input vector and \n",
        "    known mean, variance quantities\n",
        "    \"\"\"\n",
        "    return -(np.exp(-(x[0]+1)**2/(2.1**2))+\n",
        "             np.exp(-(x[1]-0.3)**2/(0.8**2))+\n",
        "             np.exp(-(x[2]-2.1)**2/(1.7**2)))\n",
        "  \n",
        "x0=np.array([0]*3)\n",
        "x1_bound = (-2,2)\n",
        "x2_bound = (0,5)\n",
        "x3_bound = (-3,0)\n",
        "result = optimize.minimize(gaussian_mixture,x0=x0,method='SLSQP',\n",
        "                           options={'maxiter':100},\n",
        "                           bounds=(x1_bound,x2_bound,x3_bound))"
      ],
      "execution_count": 19,
      "outputs": []
    },
    {
      "cell_type": "code",
      "metadata": {
        "id": "VXZA1P7zpfPj",
        "outputId": "275a8c29-2729-48b9-8958-a5874af9ad82",
        "colab": {
          "base_uri": "https://localhost:8080/",
          "height": 170
        }
      },
      "source": [
        "print(result)"
      ],
      "execution_count": 20,
      "outputs": [
        {
          "output_type": "stream",
          "text": [
            "     fun: -2.217414055755018\n",
            "     jac: array([-2.89082527e-06,  3.60012054e-04, -3.15965086e-01])\n",
            " message: 'Optimization terminated successfully.'\n",
            "    nfev: 31\n",
            "     nit: 6\n",
            "    njev: 6\n",
            "  status: 0\n",
            " success: True\n",
            "       x: array([-1.00000644e+00,  3.00115191e-01, -8.03574200e-17])\n"
          ],
          "name": "stdout"
        }
      ]
    }
  ]
}