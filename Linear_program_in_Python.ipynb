{
  "nbformat": 4,
  "nbformat_minor": 0,
  "metadata": {
    "colab": {
      "name": "Linear program in Python.ipynb",
      "provenance": [],
      "authorship_tag": "ABX9TyNOWLt+5o/T4851ftiHe2z4"
    },
    "kernelspec": {
      "name": "python3",
      "display_name": "Python 3"
    }
  },
  "cells": [
    {
      "cell_type": "markdown",
      "metadata": {
        "id": "yqtJp6vCIdnC",
        "colab_type": "text"
      },
      "source": [
        "[Reference](https://towardsdatascience.com/solving-your-first-linear-program-in-python-9e3020a9ad32)"
      ]
    },
    {
      "cell_type": "code",
      "metadata": {
        "id": "0kjEPoLWIQW9",
        "colab_type": "code",
        "colab": {
          "base_uri": "https://localhost:8080/",
          "height": 170
        },
        "outputId": "1cf1a84d-e0e5-4943-c6b6-dfa0f3d17140"
      },
      "source": [
        "from scipy.optimize import linprog\n",
        "import numpy as np\n",
        "from cvxopt import matrix\n",
        "from cvxopt import glpk\n",
        "\n",
        "\n",
        "# The perfect cake recipe that I partially remember\n",
        "\n",
        "# Equations to solve\n",
        "# f + e + b + s = 700\n",
        "# b -0.5s = 0\n",
        "# f + e <= 450\n",
        "# e + b <= 300\n",
        "# -f + e + b -s <= 0\n",
        "\n",
        "# X matrix\n",
        "var_list = ['Flour', 'Eggs', 'Butter', 'Sugar']\n",
        "\n",
        "# Inequality equations, LHS\n",
        "A_ineq = [[1., 1., 0., 0.], [0., 1., 1., 0.], [-1., 1., -1., 1.]]\n",
        "\n",
        "# Inequality equations, RHS\n",
        "B_ineq = [450., 300.,0.]\n",
        "\n",
        "# Equality equations, LHS\n",
        "A_eq = [[1., 1., 1., 1.], [0., 0., 1., -0.5]]\n",
        "\n",
        "# Equality equations, RHS\n",
        "B_eq = [700., 0]\n",
        "\n",
        "# Cost function\n",
        "c = [0., 0., 1., 1.]  # construct a cost function\n",
        "\n",
        "print('WITHOUT BOUNDS')\n",
        "# pass these matrices to linprog, use the method 'interior-point'. '_ub' implies the upper-bound or\n",
        "# inequality matrices and '_eq' imply the equality matrices\n",
        "res_no_bounds = linprog(c, A_ub=A_ineq, b_ub=B_ineq, A_eq=A_eq, b_eq=B_eq, method='interior-point')\n",
        "print(res_no_bounds)"
      ],
      "execution_count": 3,
      "outputs": [
        {
          "output_type": "stream",
          "text": [
            "WITHOUT BOUNDS\n",
            "     con: array([ 5.27055590e-08, -3.78719278e-11])\n",
            "     fun: 249.99999998121916\n",
            " message: 'Optimization terminated successfully.'\n",
            "     nit: 5\n",
            "   slack: array([3.39247208e-08, 6.95661413e+01, 7.24656159e+01])\n",
            "  status: 0\n",
            " success: True\n",
            "       x: array([302.8994746 , 147.10052537,  83.33333333, 166.66666665])\n"
          ],
          "name": "stdout"
        }
      ]
    },
    {
      "cell_type": "code",
      "metadata": {
        "id": "sLSqu7ujITZF",
        "colab_type": "code",
        "colab": {
          "base_uri": "https://localhost:8080/",
          "height": 187
        },
        "outputId": "933fcb1f-ba5c-4ca7-a856-42a12f81f34e"
      },
      "source": [
        "# these are the bounds that help the solver arrive at a solution \n",
        "f_b = [0., 300.]  # limits for flour\n",
        "e_b = [0., 200.]  # limits for eggs\n",
        "b_b = [0., 100.]  # limits for butter\n",
        "s_b = [0., 200.]  # limits for sugar\n",
        "\n",
        "res_bounds = linprog(c, A_ub=A_ineq, b_ub=B_ineq, A_eq=A_eq, b_eq=B_eq, bounds=(f_b, e_b, b_b, s_b),\n",
        "                     method='interior-point')\n",
        "print('\\nWITH BOUNDS')\n",
        "print(res_bounds)"
      ],
      "execution_count": 4,
      "outputs": [
        {
          "output_type": "stream",
          "text": [
            "\n",
            "WITH BOUNDS\n",
            "     con: array([ 4.53132998e-09, -3.25428573e-12])\n",
            "     fun: 249.9999999983819\n",
            " message: 'Optimization terminated successfully.'\n",
            "     nit: 6\n",
            "   slack: array([2.91322522e-09, 5.30261661e+01, 3.93856656e+01])\n",
            "  status: 0\n",
            " success: True\n",
            "       x: array([286.35949946, 163.64050053,  83.33333333, 166.66666667])\n"
          ],
          "name": "stdout"
        }
      ]
    },
    {
      "cell_type": "code",
      "metadata": {
        "id": "mN9w6jSRIp01",
        "colab_type": "code",
        "colab": {}
      },
      "source": [
        "# Write a parser for results\n",
        "def result_parser(res, var_list):\n",
        "    solve_status = res.success\n",
        "    if solve_status is True:\n",
        "        solution_list = res.x\n",
        "        soln = {var_list[i]: np.round(solution_list[i]) for i in range(len(var_list))}\n",
        "    else:\n",
        "        soln = []\n",
        "    return soln"
      ],
      "execution_count": 5,
      "outputs": []
    },
    {
      "cell_type": "code",
      "metadata": {
        "id": "gTlUcyVBIsf3",
        "colab_type": "code",
        "colab": {
          "base_uri": "https://localhost:8080/",
          "height": 119
        },
        "outputId": "a866ebd5-c83f-4b24-99f6-6e91e1bc3279"
      },
      "source": [
        "# formulate problem in terms of GLPK/cvxopt\n",
        "c, A_ineq, B_ineq, A_eq, B_eq = matrix(c), matrix(A_ineq).T, matrix(B_ineq), matrix(A_eq).T, matrix(B_eq)\n",
        "\n",
        "# solve the problem\n",
        "status, solution = glpk.ilp(c, A_ineq, B_ineq, A_eq, B_eq)\n",
        "\n",
        "if status=='optimal':\n",
        "    print('solution found')\n",
        "    print(solution)\n",
        "else: \n",
        "    print(status)"
      ],
      "execution_count": 6,
      "outputs": [
        {
          "output_type": "stream",
          "text": [
            "solution found\n",
            "[ 2.67e+02]\n",
            "[ 1.83e+02]\n",
            "[ 8.33e+01]\n",
            "[ 1.67e+02]\n",
            "\n"
          ],
          "name": "stdout"
        }
      ]
    }
  ]
}