{
  "nbformat": 4,
  "nbformat_minor": 0,
  "metadata": {
    "colab": {
      "name": "Containers Loading Optimization with Python.ipynb",
      "provenance": [],
      "authorship_tag": "ABX9TyMF21sfPrWQH19nClRStbCZ"
    },
    "kernelspec": {
      "name": "python3",
      "display_name": "Python 3"
    },
    "language_info": {
      "name": "python"
    }
  },
  "cells": [
    {
      "cell_type": "markdown",
      "metadata": {
        "id": "9IHEXdvbevy4"
      },
      "source": [
        "[Reference](https://towardsdatascience.com/maximize-the-loading-capacity-of-a-sea-container-to-reduce-your-shipping-costs-with-python-8cc02c9725a7)"
      ]
    },
    {
      "cell_type": "markdown",
      "metadata": {
        "id": "lLyjjZ_GezG4"
      },
      "source": [
        "# 1. Initialize model and set parameters\n"
      ]
    },
    {
      "cell_type": "code",
      "metadata": {
        "colab": {
          "base_uri": "https://localhost:8080/",
          "height": 497
        },
        "id": "_JZgwd5sfE5Z",
        "outputId": "027fb87a-3281-4c94-f777-04e9204de7cf"
      },
      "source": [
        "!pip install rectpack"
      ],
      "execution_count": 4,
      "outputs": [
        {
          "output_type": "stream",
          "name": "stdout",
          "text": [
            "Collecting rectpack\n",
            "  Downloading rectpack-0.2.1.tar.gz (17 kB)\n",
            "Collecting nose\n",
            "  Downloading nose-1.3.7-py3-none-any.whl (154 kB)\n",
            "\u001b[K     |████████████████████████████████| 154 kB 5.0 MB/s \n",
            "\u001b[?25hCollecting unittest2\n",
            "  Downloading unittest2-1.1.0-py2.py3-none-any.whl (96 kB)\n",
            "\u001b[K     |████████████████████████████████| 96 kB 4.3 MB/s \n",
            "\u001b[?25hCollecting traceback2\n",
            "  Downloading traceback2-1.4.0-py2.py3-none-any.whl (16 kB)\n",
            "Requirement already satisfied: six>=1.4 in /usr/local/lib/python3.7/dist-packages (from unittest2->rectpack) (1.15.0)\n",
            "Collecting argparse\n",
            "  Downloading argparse-1.4.0-py2.py3-none-any.whl (23 kB)\n",
            "Collecting linecache2\n",
            "  Downloading linecache2-1.0.0-py2.py3-none-any.whl (12 kB)\n",
            "Building wheels for collected packages: rectpack\n",
            "  Building wheel for rectpack (setup.py) ... \u001b[?25l\u001b[?25hdone\n",
            "  Created wheel for rectpack: filename=rectpack-0.2.1-py3-none-any.whl size=19388 sha256=566ffe02ed3926c62fe26bf5bce49f0b99b654d8cdacd7f081b7db328aec899d\n",
            "  Stored in directory: /root/.cache/pip/wheels/09/e5/8d/af7c683efa9543faf48f86f91f45d0028af56f08c43d4d3d26\n",
            "Successfully built rectpack\n",
            "Installing collected packages: linecache2, traceback2, argparse, unittest2, nose, rectpack\n",
            "Successfully installed argparse-1.4.0 linecache2-1.0.0 nose-1.3.7 rectpack-0.2.1 traceback2-1.4.0 unittest2-1.1.0\n"
          ]
        },
        {
          "output_type": "display_data",
          "data": {
            "application/vnd.colab-display-data+json": {
              "pip_warning": {
                "packages": [
                  "argparse"
                ]
              }
            }
          },
          "metadata": {}
        }
      ]
    },
    {
      "cell_type": "code",
      "metadata": {
        "id": "L7eQBALEeqyo"
      },
      "source": [
        "import pandas as pd\n",
        "import numpy as np\n",
        "from rectpack import newPacker\n",
        "import rectpack.packer as packer\n",
        "import matplotlib.pyplot as plt\n",
        "\n",
        "# Initialize Model Parameters\n",
        "\n",
        "#-- Pallet Dimensions: 80 x 120 cm\n",
        "bx = 5 # Buffer x\n",
        "by = 5 # Buffer y\n",
        "pal_812 = [80 + bx, 120 + by]\n",
        "#-- Pallet Dimensions: 100 x 120 cm\n",
        "bx = 5 # Buffer x\n",
        "by = 5 # Buffer y\n",
        "pal_1012 = [100 + bx, 120 + by]\n",
        "\n",
        "# Container size\n",
        "bins20 = [(235, 590)] # 20' Container\n",
        "bins40 = [(235, 1203)] # 40' Container"
      ],
      "execution_count": 5,
      "outputs": []
    },
    {
      "cell_type": "markdown",
      "metadata": {
        "id": "Tg5JrTQNe2bE"
      },
      "source": [
        "# 2. Build your Optimization Model\n"
      ]
    },
    {
      "cell_type": "code",
      "metadata": {
        "id": "wuTT2TnLe1a4"
      },
      "source": [
        "# Function Solver\n",
        "def solver(n_812, n_1012, bins):\n",
        "    # Pallets to load\n",
        "    rectangles = [pal_812 for i in range(n_812)] + [pal_1012 for i in range(n_1012)]\n",
        "    \n",
        "    # Build the Packer\n",
        "    pack = newPacker()\n",
        "\n",
        "    # Add the rectangles to packing queue\n",
        "    for r in rectangles:\n",
        "        pack.add_rect(*r)\n",
        "\n",
        "    # Add the bins where the rectangles will be placed\n",
        "    for b in bins:\n",
        "        pack.add_bin(*b)\n",
        "\n",
        "    # Start packing\n",
        "    pack.pack()\n",
        "    \n",
        "    # Full rectangle list with coordinates\n",
        "    all_rects = pack.rect_list()\n",
        "\n",
        "    # Pallets with dimensions\n",
        "    all_pals = [sorted([p[3], p[4]]) for p in all_rects]\n",
        "\n",
        "    # Count number of 80 x 120 / of 100 x 120\n",
        "    p_812, p_1012 = all_pals.count(pal_812), all_pals.count(pal_1012)\n",
        "    print(\"{:,}/{:,} Pallets 80 x 120 (cm) | {:,}/{:,} Pallets 100 x 120 (cm)\".format(p_812, n_812, p_1012, n_1012))\n",
        "    \n",
        "    return all_rects, all_pals"
      ],
      "execution_count": 6,
      "outputs": []
    },
    {
      "cell_type": "markdown",
      "metadata": {
        "id": "NpbQQ5Nbe9Ba"
      },
      "source": [
        "# 3. Plot your result\n"
      ]
    },
    {
      "cell_type": "code",
      "metadata": {
        "id": "m06hjMlZe5K3"
      },
      "source": [
        "def plot_solution(all_rects, pal_812, pal_1012):\n",
        "    # Plot\n",
        "    plt.figure(figsize=(10,10))\n",
        "    # Loop all rect\n",
        "    for rect in all_rects:\n",
        "        b, x, y, w, h, rid = rect\n",
        "        x1, x2, x3, x4, x5 = x, x+w, x+w, x, x\n",
        "        y1, y2, y3, y4, y5 = y, y, y+h, y+h,y\n",
        "\n",
        "        # Pallet type\n",
        "        if [w, h] == pal_812:\n",
        "            color = '--k'\n",
        "        else:\n",
        "            color = '--r'\n",
        "\n",
        "        plt.plot([x1,x2,x3,x4,x5],[y1,y2,y3,y4,y5], color)\n",
        "    \n",
        "    plt.show()"
      ],
      "execution_count": 7,
      "outputs": []
    }
  ]
}