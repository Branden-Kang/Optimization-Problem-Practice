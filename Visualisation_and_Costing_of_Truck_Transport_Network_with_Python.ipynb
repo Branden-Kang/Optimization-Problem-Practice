{
  "nbformat": 4,
  "nbformat_minor": 0,
  "metadata": {
    "colab": {
      "name": "Visualisation and Costing of Truck Transport Network with Python.ipynb",
      "provenance": [],
      "collapsed_sections": [],
      "authorship_tag": "ABX9TyPWMNr1Z4oXdY/aTT2o1d/f"
    },
    "kernelspec": {
      "name": "python3",
      "display_name": "Python 3"
    },
    "language_info": {
      "name": "python"
    }
  },
  "cells": [
    {
      "cell_type": "markdown",
      "metadata": {
        "id": "W-UqMX52qtzn"
      },
      "source": [
        "[Reference](https://towardsdatascience.com/road-transportation-optimization-with-python-part-1-visualisation-costing-698eadcdce0b)"
      ]
    },
    {
      "cell_type": "code",
      "metadata": {
        "id": "lLcdb2VjqrYs"
      },
      "source": [
        "# Create Transport Plan\n",
        "def transport_plan(data, dict_trucks, capacity_dict):\n",
        "\t# List of Stores per Truck for each DAY\n",
        "\tdf_plan = pd.DataFrame(data.groupby(['Date', 'TruckID'])['Code'].apply(list))\n",
        "\tdf_plan.columns = ['List_Code']\n",
        "\t# List of Box Quantity\n",
        "\tdf_plan['List_BOX'] = data.groupby(['Date', 'TruckID'])['BOX'].apply(list)\n",
        "\t# Mean of FTL\n",
        "\tdf_plan['FTL']  = data.groupby(['Date', 'TruckID'])['FTL'].mean()\n",
        "\tdf_plan['Capacity(T)'] = df_plan['FTL'].map(capacity_dict)\n",
        "\tdf_plan['List_Loading'] = data.groupby(['Date', 'TruckID'])['Loading(T)'].apply(list)\n",
        "\tdf_plan['Count'] = df_plan['List_Loading'].apply(lambda t: len(t))\n",
        "\tdf_plan['Total_tons(T)'] = data.groupby(['Date', 'TruckID'])['Loading(T)'].sum()\n",
        "\n",
        "\t# Distribute: one shipment per col\n",
        "\t# Stores\n",
        "\td = df_plan['List_Code'].apply(pd.Series)\n",
        "\tfor col in d:\n",
        "\t    df_plan[\"Store%d\" % (col+1)] = d[col]\n",
        "\t# Boxes number    \n",
        "\td = df_plan['List_BOX'].apply(pd.Series)\n",
        "\tfor col in d:\n",
        "\t    df_plan[\"Box%d\" % (col+1)] = d[col]\n",
        "\t# Shipments Tonnage\n",
        "\td = df_plan['List_Loading'].apply(pd.Series)\n",
        "\tfor col in d:\n",
        "\t    df_plan[\"Tons%d\" % (col+1)] = d[col]\n",
        "\n",
        "\t# Fill NaN + Drop useless columns\n",
        "\tdf_plan.fillna(0, inplace = True)\n",
        "\tif 1 == 0:\n",
        "\t\tdf_plan.drop(['List_Code'], axis = 1, inplace = True)\n",
        "\t\tdf_plan.drop(['List_BOX'], axis = 1, inplace = True)\n",
        "\t\tdf_plan.drop(['List_Loading'], axis = 1, inplace = True)\n",
        "\n",
        "\treturn df_plan"
      ],
      "execution_count": null,
      "outputs": []
    },
    {
      "cell_type": "code",
      "metadata": {
        "id": "4LnSTG9Lq6Sa"
      },
      "source": [
        "## Pricing Functions\n",
        "def f_maxcity(list_cities, list_price):\n",
        "\treturn list_cities[list_price.index(max(list_price))] # Index of Maximum Price\n",
        "def inner_stops(list_cities, max_city):\n",
        "\treturn list_cities.count(max_city) - 1\n",
        "def outer_stops(list_cities, max_city):\n",
        "\treturn len(list_cities) - (list_cities.count(max_city))\n",
        "def total_price(max_price, inner_stops, outer_stops, inner_price, outer_price):\n",
        "\treturn max_price + inner_stops * inner_price + outer_stops * outer_price\n",
        "\n",
        "# Calculate Price\n",
        "def plan_price(df_strinfo, df_plan, inner_price, outer_price):\n",
        "\n",
        "\t# Dictionnary Ville\n",
        "\tdict_ville = dict(zip(df_strinfo.Code.values, df_strinfo.City.values))\n",
        "\n",
        "\t# Price per Truck Size： 3.5T, 5T, 8T\n",
        "\tdict_35, dict_5, dict_8 = [dict(zip(df_strinfo.City.values, df_strinfo[col].values)) for col in ['3.5T', '5T', '8T']]\n",
        "\n",
        "\t# Mapping Cities\n",
        "\tf_ville = lambda t: [dict_ville[i] for i in t] # literal_eval(t)\n",
        "\n",
        "\t# Mapping Price\n",
        "\tf_35 = lambda t: [dict_35[i] for i in t]\n",
        "\tf_5 = lambda t: [dict_5[i] for i in t]\n",
        "\tf_8 = lambda t: [dict_8[i] for i in t]\n",
        "\n",
        "\t# Mapping Price\n",
        "\tdf_plan['List_City'] = df_plan['List_Code'].map(f_ville)\n",
        "\tdf_plan['List_Price35'] = df_plan['List_City'].map(f_35)\n",
        "\tdf_plan['List_Price5'] = df_plan['List_City'].map(f_5)\n",
        "\tdf_plan['List_Price8'] = df_plan['List_City'].map(f_8)\n",
        "\n",
        "\t# Maximum Price City \n",
        "\tf_maxprice = lambda t: max(t) # Maximum Price\n",
        "\n",
        "\t# Mapping First City\n",
        "\tdf_plan['Max_Price35'] = df_plan['List_Price35'].map(f_maxprice)\n",
        "\tdf_plan['Max_Price5'] = df_plan['List_Price5'].map(f_maxprice)\n",
        "\tdf_plan['Max_Price8'] = df_plan['List_Price8'].map(f_maxprice)\n",
        "\tdf_plan['Max_City'] = df_plan.apply(lambda x: f_maxcity(x.List_City, x.List_Price35), axis = 1)\n",
        "\n",
        "\t# Inner City Stop \n",
        "\tdf_plan['Inner_Stops'] = df_plan.apply(lambda x: inner_stops(x.List_City, x.Max_City), axis = 1)\n",
        "\tdf_plan['Outer_Stops'] = df_plan.apply(lambda x: outer_stops(x.List_City, x.Max_City), axis = 1)\n",
        "\n",
        "\t# Total Price\n",
        "\tdf_plan['Price35'] = df_plan.apply(lambda x: total_price(x.Max_Price35, x.Inner_Stops, x.Outer_Stops, \n",
        "\t\tinner_price, outer_price), axis = 1)\n",
        "\tdf_plan['Price5'] = df_plan.apply(lambda x: total_price(x.Max_Price5, x.Inner_Stops, x.Outer_Stops, \n",
        "\t\tinner_price, outer_price), axis = 1)\n",
        "\tdf_plan['Price8'] = df_plan.apply(lambda x: total_price(x.Max_Price8, x.Inner_Stops, x.Outer_Stops, \n",
        "\t\tinner_price, outer_price), axis = 1)\n",
        "\n",
        "\treturn df_plan"
      ],
      "execution_count": null,
      "outputs": []
    }
  ]
}