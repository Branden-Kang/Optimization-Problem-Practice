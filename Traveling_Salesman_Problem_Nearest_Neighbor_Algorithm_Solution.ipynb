{
  "nbformat": 4,
  "nbformat_minor": 0,
  "metadata": {
    "colab": {
      "provenance": [],
      "authorship_tag": "ABX9TyPZ5q9lt7ogbbPekVXNWMw5"
    },
    "kernelspec": {
      "name": "python3",
      "display_name": "Python 3"
    },
    "language_info": {
      "name": "python"
    }
  },
  "cells": [
    {
      "cell_type": "markdown",
      "source": [
        "[Reference](https://blog.devgenius.io/traveling-salesman-problem-nearest-neighbor-algorithm-solution-e78399d0ab0c)"
      ],
      "metadata": {
        "id": "2sXTBd_whWK7"
      }
    },
    {
      "cell_type": "code",
      "execution_count": 1,
      "metadata": {
        "id": "hn6hHZCXhU5P"
      },
      "outputs": [],
      "source": [
        "# coordinates of cities\n",
        "\n",
        "berlin = {\"lat\":52.5200, \"lon\": 13.4050}\n",
        "hamburg = {\"lat\":53.5511, \"lon\": 9.9937}\n",
        "munich = {\"lat\":48.1351, \"lon\": 11.5820}\n",
        "cologne = {\"lat\":50.9375, \"lon\": 6.9603}\n",
        "frankfurt = {\"lat\":50.1109, \"lon\": 8.6821}\n",
        "cities = [berlin, hamburg, munich, cologne, frankfurt]"
      ]
    },
    {
      "cell_type": "code",
      "source": [
        "import math\n",
        "\n",
        "def calculate_distance(city1, city2):\n",
        "    \"\"\"distance between two cities\"\"\"\n",
        "    lat1, lon1 = city1[\"lat\"], city1[\"lon\"]\n",
        "    lat2, lon2 = city2[\"lat\"], city2[\"lon\"]\n",
        "    radius = 6371  # Radius of the Earth in kilometers\n",
        "    dlat = math.radians(lat2 - lat1)\n",
        "    dlon = math.radians(lon2 - lon1)\n",
        "    a = math.sin(dlat / 2) ** 2 + math.cos(math.radians(lat1)) * math.cos(math.radians(lat2)) * math.sin(dlon / 2) ** 2\n",
        "    c = 2 * math.atan2(math.sqrt(a), math.sqrt(1 - a))\n",
        "    distance = radius * c\n",
        "    return distance"
      ],
      "metadata": {
        "id": "BqOyGcAJhYhF"
      },
      "execution_count": 2,
      "outputs": []
    },
    {
      "cell_type": "code",
      "source": [
        "def get_distance_matrix(cities):\n",
        "    \"\"\"populate distance matrix\"\"\"\n",
        "    num_cities = len(cities)\n",
        "    distances = [[0] * num_cities for _ in range(num_cities)]\n",
        "    for i in range(num_cities):\n",
        "        for j in range(i + 1, num_cities):\n",
        "            dist = calculate_distance(cities[i], cities[j])\n",
        "            distances[i][j] = int(dist)\n",
        "            distances[j][i] = int(dist)\n",
        "    return distances\n",
        "\n",
        "distances = get_distance_matrix(cities)\n",
        "for row in distances:\n",
        "    print(row)"
      ],
      "metadata": {
        "colab": {
          "base_uri": "https://localhost:8080/"
        },
        "id": "3iwNHjLFhZfx",
        "outputId": "4943e616-3152-4330-a3e0-32ddfc7ebc7d"
      },
      "execution_count": 4,
      "outputs": [
        {
          "output_type": "stream",
          "name": "stdout",
          "text": [
            "[0, 255, 504, 477, 423]\n",
            "[255, 0, 612, 356, 392]\n",
            "[504, 612, 0, 456, 304]\n",
            "[477, 356, 456, 0, 152]\n",
            "[423, 392, 304, 152, 0]\n"
          ]
        }
      ]
    },
    {
      "cell_type": "code",
      "source": [
        "def solve_tsp_nearest(distances):\n",
        "    num_cities = len(distances)\n",
        "    visited = [False] * num_cities\n",
        "    tour = []\n",
        "    total_distance = 0\n",
        "\n",
        "    # Start at the first city\n",
        "    current_city = 0\n",
        "    tour.append(current_city)\n",
        "    visited[current_city] = True\n",
        "\n",
        "\n",
        "    # Repeat until all cities have been visited\n",
        "    while len(tour) < num_cities:\n",
        "        nearest_city = None\n",
        "        nearest_distance = math.inf\n",
        "\n",
        "        # Find the nearest unvisited city\n",
        "        for city in range(num_cities):\n",
        "            if not visited[city]:\n",
        "                distance = distances[current_city][city]\n",
        "                if distance < nearest_distance:\n",
        "                    nearest_city = city\n",
        "                    nearest_distance = distance\n",
        "\n",
        "        # Move to the nearest city\n",
        "        current_city = nearest_city\n",
        "        tour.append(current_city)\n",
        "        visited[current_city] = True\n",
        "        total_distance += nearest_distance\n",
        "\n",
        "    # Complete the tour by returning to the starting city\n",
        "    tour.append(0)\n",
        "    total_distance += distances[current_city][0]\n",
        "\n",
        "    return tour, total_distance\n",
        "\n",
        "tour, total_distance = solve_tsp_nearest(distances)\n",
        "\n",
        "print(\"Tour:\", tour)\n",
        "print(\"Total distance:\", total_distance)"
      ],
      "metadata": {
        "colab": {
          "base_uri": "https://localhost:8080/"
        },
        "id": "F8_a4_WEhajE",
        "outputId": "e4a71c8d-7b0d-44f8-ada7-3b70d4a1f5b4"
      },
      "execution_count": 5,
      "outputs": [
        {
          "output_type": "stream",
          "name": "stdout",
          "text": [
            "Tour: [0, 1, 3, 4, 2, 0]\n",
            "Total distance: 1571\n"
          ]
        }
      ]
    },
    {
      "cell_type": "code",
      "source": [
        "import folium\n",
        "m = folium.Map(location=[52.52, 13.405], zoom_start=6)\n",
        "\n",
        "cities = [(52.5200, 13.4050), (53.5511, 9.9937), (48.1351, 11.5820), (50.9375, 6.9603), (50.1109, 8.6821)]\n",
        "for i in range(len(cities)):\n",
        "    folium.Marker(location=cities[i], tooltip=f\"City {i}\").add_to(m)\n",
        "\n",
        "paths = [[0, 1], [0, 2], [0, 3], [0, 4], [1, 2], [1, 3], [1, 4], [2, 3], [2, 4], [3, 4]]\n",
        "for path in paths:\n",
        "    start_city = cities[path[0]]\n",
        "    end_city = cities[path[1]]\n",
        "    folium.PolyLine(locations=[start_city, end_city], color='red').add_to(m)\n",
        "\n",
        "min_cost_path = [0, 1, 3, 4, 2, 0]\n",
        "for i in range(len(min_cost_path)-1):\n",
        "    start_city = cities[min_cost_path[i]]\n",
        "    end_city = cities[min_cost_path[i+1]]\n",
        "    folium.PolyLine(locations=[start_city, end_city], color='green').add_to(m)"
      ],
      "metadata": {
        "id": "yihOvvykhj27"
      },
      "execution_count": 7,
      "outputs": []
    }
  ]
}