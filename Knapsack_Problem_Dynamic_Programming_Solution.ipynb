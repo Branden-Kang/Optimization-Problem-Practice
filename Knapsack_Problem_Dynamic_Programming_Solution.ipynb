{
  "nbformat": 4,
  "nbformat_minor": 0,
  "metadata": {
    "colab": {
      "provenance": [],
      "authorship_tag": "ABX9TyOHABnYXnvN2DVA2/hBiOwl"
    },
    "kernelspec": {
      "name": "python3",
      "display_name": "Python 3"
    },
    "language_info": {
      "name": "python"
    }
  },
  "cells": [
    {
      "cell_type": "markdown",
      "source": [
        "[Reference](https://blog.stackademic.com/knapsack-problem-dynamic-programming-solution-bdf48365b759)"
      ],
      "metadata": {
        "id": "kD5PHE9HcfaZ"
      }
    },
    {
      "cell_type": "code",
      "execution_count": 1,
      "metadata": {
        "colab": {
          "base_uri": "https://localhost:8080/"
        },
        "id": "ZCmJTx3xcH-a",
        "outputId": "ae4e3681-4b70-48d7-ef3b-e80f06cf1bb5"
      },
      "outputs": [
        {
          "output_type": "execute_result",
          "data": {
            "text/plain": [
              "(10, [1, 3, 4])"
            ]
          },
          "metadata": {},
          "execution_count": 1
        }
      ],
      "source": [
        "def knapsack_max_value(weights, values, W):\n",
        "    \"\"\"\n",
        "    Calculate the maximum value for the knapsack problem and return the DP table.\n",
        "\n",
        "    :param weights: List of weights of the items\n",
        "    :param values: List of values of the items\n",
        "    :param W: Capacity of the knapsack\n",
        "    :return: Maximum value and the DP table\n",
        "    \"\"\"\n",
        "    n = len(weights)\n",
        "    dp = [[0 for _ in range(W + 1)] for _ in range(n + 1)]\n",
        "\n",
        "    # Fill the DP table\n",
        "    for i in range(1, n + 1):\n",
        "        for w in range(1, W + 1):\n",
        "            if weights[i - 1] <= w:\n",
        "                dp[i][w] = max(dp[i - 1][w], values[i - 1] + dp[i - 1][w - weights[i - 1]])\n",
        "            else:\n",
        "                dp[i][w] = dp[i - 1][w]\n",
        "\n",
        "    max_value = dp[n][W]\n",
        "    return max_value, dp\n",
        "\n",
        "\n",
        "def find_included_items(weights, dp):\n",
        "    \"\"\"\n",
        "    Find the items included in the optimal solution based on the DP table.\n",
        "\n",
        "    :param weights: List of weights of the items\n",
        "    :param dp: DP table computed by knapsack_max_value\n",
        "    :return: List of included items (1-based index)\n",
        "    \"\"\"\n",
        "    n = len(weights)\n",
        "    W = len(dp[0]) - 1\n",
        "    included_items = []\n",
        "    i, w = n, W\n",
        "\n",
        "    while i > 0 and w > 0:\n",
        "        if dp[i][w] != dp[i - 1][w]:\n",
        "            included_items.append(i)\n",
        "            w -= weights[i - 1]\n",
        "        i -= 1\n",
        "\n",
        "    included_items.reverse()\n",
        "    return included_items\n",
        "\n",
        "# Test the functions with the given weights, values, and capacity\n",
        "weights = [4, 3, 2, 1, 3]\n",
        "values = [5, 2, 3, 2, 4]\n",
        "W = 7\n",
        "\n",
        "max_value, dp = knapsack_max_value(weights, values, W)\n",
        "included_items = find_included_items(weights, dp)\n",
        "\n",
        "max_value, included_items"
      ]
    }
  ]
}